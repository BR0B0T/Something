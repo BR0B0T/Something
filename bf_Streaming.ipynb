{
 "cells": [
  {
   "cell_type": "code",
   "execution_count": 10,
   "id": "8ecb8889",
   "metadata": {},
   "outputs": [],
   "source": [
    "import betfairlightweight\n",
    "import queue\n",
    "import threading\n",
    "\n",
    "from betfairlightweight.filters import streaming_order_filter"
   ]
  },
  {
   "cell_type": "markdown",
   "id": "57265b60",
   "metadata": {},
   "source": [
    "Login..."
   ]
  },
  {
   "cell_type": "code",
   "execution_count": 11,
   "id": "0752d5eb",
   "metadata": {},
   "outputs": [
    {
     "data": {
      "text/plain": [
       "<LoginResource>"
      ]
     },
     "execution_count": 11,
     "metadata": {},
     "output_type": "execute_result"
    }
   ],
   "source": [
    "my_username = \"darrenlogue\"\n",
    "my_password = \"Fangman123!\"\n",
    "my_app_key  = \"LwpwussYFAn9kO7f\"\n",
    "\n",
    "trading = betfairlightweight.APIClient(username=my_username,\n",
    "                                       password=my_password,\n",
    "                                       app_key=my_app_key)\n",
    "\n",
    "trading.login_interactive()"
   ]
  },
  {
   "cell_type": "markdown",
   "id": "c4e06113",
   "metadata": {},
   "source": [
    "Create queue..."
   ]
  },
  {
   "cell_type": "code",
   "execution_count": 12,
   "id": "306c3964",
   "metadata": {},
   "outputs": [],
   "source": [
    "output_queue = queue.Queue()"
   ]
  },
  {
   "cell_type": "markdown",
   "id": "41976159",
   "metadata": {},
   "source": [
    "Create a stream listener..."
   ]
  },
  {
   "cell_type": "code",
   "execution_count": 13,
   "id": "667f128b",
   "metadata": {},
   "outputs": [],
   "source": [
    "listener = betfairlightweight.StreamListener(output_queue=output_queue)"
   ]
  },
  {
   "cell_type": "markdown",
   "id": "8ca2606d",
   "metadata": {},
   "source": [
    "Create the stream..."
   ]
  },
  {
   "cell_type": "code",
   "execution_count": 14,
   "id": "a7361660",
   "metadata": {},
   "outputs": [],
   "source": [
    "stream = trading.streaming.create_stream(listener=listener)"
   ]
  },
  {
   "cell_type": "markdown",
   "id": "19b15f64",
   "metadata": {},
   "source": [
    "create filters (GB WIN racing)\n"
   ]
  },
  {
   "cell_type": "code",
   "execution_count": 15,
   "id": "dc7e19a4",
   "metadata": {},
   "outputs": [],
   "source": [
    "order_filter = streaming_order_filter()"
   ]
  },
  {
   "cell_type": "markdown",
   "id": "4fe81d3e",
   "metadata": {},
   "source": [
    "Subscribe, send update every 1000ms (1sec)..."
   ]
  },
  {
   "cell_type": "code",
   "execution_count": 16,
   "id": "55817360",
   "metadata": {},
   "outputs": [],
   "source": [
    "streaming_unique_id = stream.subscribe_to_orders(order_filter=order_filter, conflate_ms=1000)"
   ]
  },
  {
   "cell_type": "markdown",
   "id": "15ba20be",
   "metadata": {},
   "source": [
    "Start stream in a new thread (in production would need err handling)\n"
   ]
  },
  {
   "cell_type": "code",
   "execution_count": 17,
   "id": "8df5397c",
   "metadata": {},
   "outputs": [],
   "source": [
    "t = threading.Thread(target=stream.start, daemon=True)\n",
    "t.start()"
   ]
  },
  {
   "cell_type": "code",
   "execution_count": null,
   "id": "7ab08e54",
   "metadata": {},
   "outputs": [
    {
     "name": "stderr",
     "output_type": "stream",
     "text": [
      "Exception in thread Thread-9:\n",
      "Traceback (most recent call last):\n",
      "  File \"/Users/darrenlogue/opt/anaconda3/lib/python3.9/site-packages/betfairlightweight/streaming/betfairstream.py\", line 230, in _receive_all\n",
      "    part = self._socket.recv(self.buffer_size)\n",
      "  File \"/Users/darrenlogue/opt/anaconda3/lib/python3.9/ssl.py\", line 1226, in recv\n",
      "    return self.read(buflen)\n",
      "  File \"/Users/darrenlogue/opt/anaconda3/lib/python3.9/ssl.py\", line 1101, in read\n",
      "    return self._sslobj.read(len)\n",
      "socket.timeout: The read operation timed out\n",
      "\n",
      "During handling of the above exception, another exception occurred:\n",
      "\n",
      "Traceback (most recent call last):\n",
      "  File \"/Users/darrenlogue/opt/anaconda3/lib/python3.9/threading.py\", line 973, in _bootstrap_inner\n",
      "    self.run()\n",
      "  File \"/Users/darrenlogue/opt/anaconda3/lib/python3.9/threading.py\", line 910, in run\n",
      "    self._target(*self._args, **self._kwargs)\n",
      "  File \"/Users/darrenlogue/opt/anaconda3/lib/python3.9/site-packages/betfairlightweight/streaming/betfairstream.py\", line 60, in start\n",
      "    self._read_loop()\n",
      "  File \"/Users/darrenlogue/opt/anaconda3/lib/python3.9/site-packages/betfairlightweight/streaming/betfairstream.py\", line 212, in _read_loop\n",
      "    received_data_raw = self._receive_all()\n",
      "  File \"/Users/darrenlogue/opt/anaconda3/lib/python3.9/site-packages/betfairlightweight/streaming/betfairstream.py\", line 234, in _receive_all\n",
      "    raise SocketError(\"[Connect: %s]: Socket %s\" % (self._unique_id, e))\n",
      "betfairlightweight.exceptions.SocketError: [Connect: 2]: Socket The read operation timed out\n"
     ]
    }
   ],
   "source": [
    "while True:\n",
    "    market_books = output_queue.get()\n",
    "    print(market_books)\n",
    "\n",
    "    for market_book in market_books:\n",
    "        print(\n",
    "            market_book,\n",
    "            market_book.streaming_unique_id,  # unique id of stream (returned from subscribe request)\n",
    "            market_book.streaming_update,  # json update received\n",
    "            market_book.market_definition,  # streaming definition, similar to catalogue request\n",
    "            market_book.publish_time,  # betfair publish time of update\n",
    "        )   "
   ]
  },
  {
   "cell_type": "code",
   "execution_count": null,
   "id": "6c053a71",
   "metadata": {},
   "outputs": [],
   "source": []
  }
 ],
 "metadata": {
  "kernelspec": {
   "display_name": "Python 3 (ipykernel)",
   "language": "python",
   "name": "python3"
  },
  "language_info": {
   "codemirror_mode": {
    "name": "ipython",
    "version": 3
   },
   "file_extension": ".py",
   "mimetype": "text/x-python",
   "name": "python",
   "nbconvert_exporter": "python",
   "pygments_lexer": "ipython3",
   "version": "3.9.7"
  }
 },
 "nbformat": 4,
 "nbformat_minor": 5
}
