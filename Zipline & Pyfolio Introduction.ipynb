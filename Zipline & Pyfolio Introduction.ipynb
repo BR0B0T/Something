{
 "cells": [
  {
   "cell_type": "code",
   "execution_count": 3,
   "id": "b5deed52",
   "metadata": {},
   "outputs": [
    {
     "data": {
      "text/plain": [
       "1"
      ]
     },
     "execution_count": 3,
     "metadata": {},
     "output_type": "execute_result"
    }
   ],
   "source": [
    "import pulp\n",
    "\n",
    "x = pulp.LpVariable('x', lowBound=0)\n",
    "y = pulp.LpVariable('y', lowBound=0)\n",
    "    \n",
    "problem = pulp.LpProblem('A simple maximization objective', pulp.LpMaximize)\n",
    "problem += 3*x + 2*y, 'The objective function'\n",
    "problem += 2*x + y <= 100, '1st constraint'\n",
    "problem += x + y <= 80, '2nd constraint'\n",
    "problem += x <= 40, '3rd constraint'\n",
    "problem.solve()"
   ]
  },
  {
   "cell_type": "code",
   "execution_count": 4,
   "id": "1973030d",
   "metadata": {},
   "outputs": [
    {
     "name": "stdout",
     "output_type": "stream",
     "text": [
      "Maximization Results:\n",
      "x = 20.0\n",
      "y = 60.0\n"
     ]
    }
   ],
   "source": [
    "print(\"Maximization Results:\")\n",
    "for variable in problem.variables():\n",
    "    print(variable.name, '=', variable.varValue)"
   ]
  },
  {
   "cell_type": "code",
   "execution_count": null,
   "id": "a69a1703",
   "metadata": {},
   "outputs": [],
   "source": []
  }
 ],
 "metadata": {
  "kernelspec": {
   "display_name": "Python 3",
   "language": "python",
   "name": "python3"
  },
  "language_info": {
   "codemirror_mode": {
    "name": "ipython",
    "version": 3
   },
   "file_extension": ".py",
   "mimetype": "text/x-python",
   "name": "python",
   "nbconvert_exporter": "python",
   "pygments_lexer": "ipython3",
   "version": "3.8.8"
  }
 },
 "nbformat": 4,
 "nbformat_minor": 5
}
