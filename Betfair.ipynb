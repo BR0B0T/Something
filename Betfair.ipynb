{
 "cells": [
  {
   "cell_type": "code",
   "execution_count": 1,
   "id": "0cf70b19",
   "metadata": {},
   "outputs": [],
   "source": [
    "import betfairlightweight\n",
    "from   betfairlightweight import filters\n",
    "import pandas as pd\n",
    "import numpy as np\n",
    "import os\n",
    "import datetime\n",
    "import json"
   ]
  },
  {
   "cell_type": "markdown",
   "id": "b1f4ce64",
   "metadata": {},
   "source": [
    "Login, change certs path and login_details..."
   ]
  },
  {
   "cell_type": "code",
   "execution_count": 4,
   "id": "b926c973",
   "metadata": {},
   "outputs": [
    {
     "data": {
      "text/plain": [
       "<LoginResource>"
      ]
     },
     "execution_count": 4,
     "metadata": {},
     "output_type": "execute_result"
    }
   ],
   "source": [
    "# certs_path = r'PATH_NAME'\n",
    "\n",
    "my_username = \"\"\n",
    "my_password = \"\"\n",
    "my_app_key  = \"\"\n",
    "\n",
    "trading = betfairlightweight.APIClient(username=my_username,\n",
    "                                       password=my_password,\n",
    "                                       app_key=my_app_key)\n",
    "\n",
    "trading.login_interactive()"
   ]
  },
  {
   "cell_type": "markdown",
   "id": "68d1c7f4",
   "metadata": {},
   "source": [
    "Get the event IDs for each sport...\n",
    "\n",
    "Sort and store into a pandas DataFrame."
   ]
  },
  {
   "cell_type": "code",
   "execution_count": 19,
   "id": "f91edaec",
   "metadata": {},
   "outputs": [
    {
     "data": {
      "text/plain": [
       "'i'"
      ]
     },
     "execution_count": 19,
     "metadata": {},
     "output_type": "execute_result"
    }
   ],
   "source": [
    "trading.session_token"
   ]
  },
  {
   "cell_type": "code",
   "execution_count": 11,
   "id": "e98e5743",
   "metadata": {},
   "outputs": [
    {
     "data": {
      "text/plain": [
       "<EventTypeResult>"
      ]
     },
     "execution_count": 11,
     "metadata": {},
     "output_type": "execute_result"
    }
   ],
   "source": [
    "trading.betting.list_event_types()"
   ]
  },
  {
   "cell_type": "code",
   "execution_count": 13,
   "id": "02ceb061",
   "metadata": {},
   "outputs": [
    {
     "data": {
      "text/plain": [
       "['Soccer',\n",
       " 'Tennis',\n",
       " 'Golf',\n",
       " 'Cricket',\n",
       " 'Rugby Union',\n",
       " 'Rugby League',\n",
       " 'Boxing',\n",
       " 'Horse Racing',\n",
       " 'Motor Sport',\n",
       " 'Esports',\n",
       " 'Special Bets',\n",
       " 'Volleyball',\n",
       " 'Cycling',\n",
       " 'Gaelic Games',\n",
       " 'Snooker',\n",
       " 'American Football',\n",
       " 'Baseball',\n",
       " 'Winter Sports',\n",
       " 'Basketball',\n",
       " 'Ice Hockey',\n",
       " 'Australian Rules',\n",
       " 'Handball',\n",
       " 'Darts',\n",
       " 'Mixed Martial Arts',\n",
       " 'Greyhound Racing',\n",
       " 'Politics']"
      ]
     },
     "execution_count": 13,
     "metadata": {},
     "output_type": "execute_result"
    }
   ],
   "source": [
    "[event_type_object.event_type.name for event_type_object in trading.betting.list_event_types()]"
   ]
  },
  {
   "cell_type": "code",
   "execution_count": 14,
   "id": "031f8d96",
   "metadata": {},
   "outputs": [
    {
     "data": {
      "text/html": [
       "<div>\n",
       "<style scoped>\n",
       "    .dataframe tbody tr th:only-of-type {\n",
       "        vertical-align: middle;\n",
       "    }\n",
       "\n",
       "    .dataframe tbody tr th {\n",
       "        vertical-align: top;\n",
       "    }\n",
       "\n",
       "    .dataframe thead th {\n",
       "        text-align: right;\n",
       "    }\n",
       "</style>\n",
       "<table border=\"1\" class=\"dataframe\">\n",
       "  <thead>\n",
       "    <tr style=\"text-align: right;\">\n",
       "      <th></th>\n",
       "      <th>ID</th>\n",
       "    </tr>\n",
       "    <tr>\n",
       "      <th>Sport</th>\n",
       "      <th></th>\n",
       "    </tr>\n",
       "  </thead>\n",
       "  <tbody>\n",
       "    <tr>\n",
       "      <th>American Football</th>\n",
       "      <td>6423</td>\n",
       "    </tr>\n",
       "    <tr>\n",
       "      <th>Australian Rules</th>\n",
       "      <td>61420</td>\n",
       "    </tr>\n",
       "    <tr>\n",
       "      <th>Baseball</th>\n",
       "      <td>7511</td>\n",
       "    </tr>\n",
       "    <tr>\n",
       "      <th>Basketball</th>\n",
       "      <td>7522</td>\n",
       "    </tr>\n",
       "    <tr>\n",
       "      <th>Boxing</th>\n",
       "      <td>6</td>\n",
       "    </tr>\n",
       "    <tr>\n",
       "      <th>Cricket</th>\n",
       "      <td>4</td>\n",
       "    </tr>\n",
       "    <tr>\n",
       "      <th>Cycling</th>\n",
       "      <td>11</td>\n",
       "    </tr>\n",
       "    <tr>\n",
       "      <th>Darts</th>\n",
       "      <td>3503</td>\n",
       "    </tr>\n",
       "    <tr>\n",
       "      <th>Esports</th>\n",
       "      <td>27454571</td>\n",
       "    </tr>\n",
       "    <tr>\n",
       "      <th>Gaelic Games</th>\n",
       "      <td>2152880</td>\n",
       "    </tr>\n",
       "    <tr>\n",
       "      <th>Golf</th>\n",
       "      <td>3</td>\n",
       "    </tr>\n",
       "    <tr>\n",
       "      <th>Greyhound Racing</th>\n",
       "      <td>4339</td>\n",
       "    </tr>\n",
       "    <tr>\n",
       "      <th>Handball</th>\n",
       "      <td>468328</td>\n",
       "    </tr>\n",
       "    <tr>\n",
       "      <th>Horse Racing</th>\n",
       "      <td>7</td>\n",
       "    </tr>\n",
       "    <tr>\n",
       "      <th>Ice Hockey</th>\n",
       "      <td>7524</td>\n",
       "    </tr>\n",
       "    <tr>\n",
       "      <th>Mixed Martial Arts</th>\n",
       "      <td>26420387</td>\n",
       "    </tr>\n",
       "    <tr>\n",
       "      <th>Motor Sport</th>\n",
       "      <td>8</td>\n",
       "    </tr>\n",
       "    <tr>\n",
       "      <th>Politics</th>\n",
       "      <td>2378961</td>\n",
       "    </tr>\n",
       "    <tr>\n",
       "      <th>Rugby League</th>\n",
       "      <td>1477</td>\n",
       "    </tr>\n",
       "    <tr>\n",
       "      <th>Rugby Union</th>\n",
       "      <td>5</td>\n",
       "    </tr>\n",
       "    <tr>\n",
       "      <th>Snooker</th>\n",
       "      <td>6422</td>\n",
       "    </tr>\n",
       "    <tr>\n",
       "      <th>Soccer</th>\n",
       "      <td>1</td>\n",
       "    </tr>\n",
       "    <tr>\n",
       "      <th>Special Bets</th>\n",
       "      <td>10</td>\n",
       "    </tr>\n",
       "    <tr>\n",
       "      <th>Tennis</th>\n",
       "      <td>2</td>\n",
       "    </tr>\n",
       "    <tr>\n",
       "      <th>Volleyball</th>\n",
       "      <td>998917</td>\n",
       "    </tr>\n",
       "    <tr>\n",
       "      <th>Winter Sports</th>\n",
       "      <td>451485</td>\n",
       "    </tr>\n",
       "  </tbody>\n",
       "</table>\n",
       "</div>"
      ],
      "text/plain": [
       "                          ID\n",
       "Sport                       \n",
       "American Football       6423\n",
       "Australian Rules       61420\n",
       "Baseball                7511\n",
       "Basketball              7522\n",
       "Boxing                     6\n",
       "Cricket                    4\n",
       "Cycling                   11\n",
       "Darts                   3503\n",
       "Esports             27454571\n",
       "Gaelic Games         2152880\n",
       "Golf                       3\n",
       "Greyhound Racing        4339\n",
       "Handball              468328\n",
       "Horse Racing               7\n",
       "Ice Hockey              7524\n",
       "Mixed Martial Arts  26420387\n",
       "Motor Sport                8\n",
       "Politics             2378961\n",
       "Rugby League            1477\n",
       "Rugby Union                5\n",
       "Snooker                 6422\n",
       "Soccer                     1\n",
       "Special Bets              10\n",
       "Tennis                     2\n",
       "Volleyball            998917\n",
       "Winter Sports         451485"
      ]
     },
     "execution_count": 14,
     "metadata": {},
     "output_type": "execute_result"
    }
   ],
   "source": [
    "event_types = trading.betting.list_event_types()\n",
    "\n",
    "sport_ids = pd.DataFrame({'Sport': [event_type_object.event_type.name for event_type_object in event_types],\n",
    "                          'ID':    [event_type_object.event_type.id for event_type_object in event_types]\n",
    "                         }).set_index('Sport').sort_index()\n",
    "\n",
    "sport_ids"
   ]
  },
  {
   "cell_type": "markdown",
   "id": "4937d18f",
   "metadata": {},
   "source": [
    "To filter for a single sport such as horse racing...the ID is 7"
   ]
  },
  {
   "cell_type": "code",
   "execution_count": 21,
   "id": "fd2beecf",
   "metadata": {},
   "outputs": [
    {
     "data": {
      "text/plain": [
       "'7'"
      ]
     },
     "execution_count": 21,
     "metadata": {},
     "output_type": "execute_result"
    }
   ],
   "source": [
    "horse_racing_filter = betfairlightweight.filters.market_filter(text_query='Horse Racing')\n",
    "\n",
    "horse_racing_event_type = trading.betting.list_event_types(filter=horse_racing_filter)\n",
    "horse_racing_event_type = horse_racing_event_type[0]\n",
    "\n",
    "horse_racing_event_type_id = horse_racing_event_type.event_type.id\n",
    "horse_racing_event_type_id"
   ]
  },
  {
   "cell_type": "markdown",
   "id": "fd127530",
   "metadata": {},
   "source": [
    "Filtering for EPL games in the next week\n",
    "\n",
    "Get a datetime object in a week and convert to string"
   ]
  },
  {
   "cell_type": "code",
   "execution_count": 22,
   "id": "92ba7cec",
   "metadata": {},
   "outputs": [],
   "source": [
    "datetime_in_a_week = (datetime.datetime.utcnow() + datetime.timedelta(weeks=1)).strftime(\"%Y-%m-%dT%TZ\")"
   ]
  },
  {
   "cell_type": "markdown",
   "id": "b5cf9f64",
   "metadata": {},
   "source": [
    "Create a competition filter...(ID=1)"
   ]
  },
  {
   "cell_type": "code",
   "execution_count": 24,
   "id": "b22cc4cd",
   "metadata": {},
   "outputs": [],
   "source": [
    "competition_filter = betfairlightweight.filters.market_filter(event_type_ids=[1],\n",
    "                                        market_start_time={'to': datetime_in_a_week})"
   ]
  },
  {
   "cell_type": "markdown",
   "id": "9457e3d4",
   "metadata": {},
   "source": [
    "Get a list of competitions for soccer (Football 4fs betfair)"
   ]
  },
  {
   "cell_type": "code",
   "execution_count": 25,
   "id": "71105b71",
   "metadata": {},
   "outputs": [],
   "source": [
    "competitions = trading.betting.list_competitions(filter=competition_filter)"
   ]
  },
  {
   "cell_type": "markdown",
   "id": "404976ce",
   "metadata": {},
   "source": [
    "Iterate over the competitions and create a dataframe of competitions and competition ids"
   ]
  },
  {
   "cell_type": "code",
   "execution_count": 26,
   "id": "51c1035f",
   "metadata": {},
   "outputs": [],
   "source": [
    "soccer_competitions = pd.DataFrame({\n",
    "    'Competition': [competition_object.competition.name for competition_object in competitions],\n",
    "    'ID': [competition_object.competition.id for competition_object in competitions]\n",
    "})"
   ]
  },
  {
   "cell_type": "code",
   "execution_count": 27,
   "id": "3a705b99",
   "metadata": {},
   "outputs": [
    {
     "data": {
      "text/html": [
       "<div>\n",
       "<style scoped>\n",
       "    .dataframe tbody tr th:only-of-type {\n",
       "        vertical-align: middle;\n",
       "    }\n",
       "\n",
       "    .dataframe tbody tr th {\n",
       "        vertical-align: top;\n",
       "    }\n",
       "\n",
       "    .dataframe thead th {\n",
       "        text-align: right;\n",
       "    }\n",
       "</style>\n",
       "<table border=\"1\" class=\"dataframe\">\n",
       "  <thead>\n",
       "    <tr style=\"text-align: right;\">\n",
       "      <th></th>\n",
       "      <th>Competition</th>\n",
       "      <th>ID</th>\n",
       "    </tr>\n",
       "  </thead>\n",
       "  <tbody>\n",
       "    <tr>\n",
       "      <th>0</th>\n",
       "      <td>Swedish Allsvenskan</td>\n",
       "      <td>129</td>\n",
       "    </tr>\n",
       "    <tr>\n",
       "      <th>1</th>\n",
       "      <td>Specials</td>\n",
       "      <td>2608550</td>\n",
       "    </tr>\n",
       "    <tr>\n",
       "      <th>2</th>\n",
       "      <td>Spanish Copa del Rey</td>\n",
       "      <td>12801</td>\n",
       "    </tr>\n",
       "    <tr>\n",
       "      <th>3</th>\n",
       "      <td>Brazilian Cup</td>\n",
       "      <td>89219</td>\n",
       "    </tr>\n",
       "    <tr>\n",
       "      <th>4</th>\n",
       "      <td>German Regionalliga Northeast</td>\n",
       "      <td>318343</td>\n",
       "    </tr>\n",
       "    <tr>\n",
       "      <th>...</th>\n",
       "      <td>...</td>\n",
       "      <td>...</td>\n",
       "    </tr>\n",
       "    <tr>\n",
       "      <th>86</th>\n",
       "      <td>Belgian First Division A</td>\n",
       "      <td>89979</td>\n",
       "    </tr>\n",
       "    <tr>\n",
       "      <th>87</th>\n",
       "      <td>Spanish Segunda Division B - Group 2</td>\n",
       "      <td>123</td>\n",
       "    </tr>\n",
       "    <tr>\n",
       "      <th>88</th>\n",
       "      <td>Mexican Matches</td>\n",
       "      <td>12038731</td>\n",
       "    </tr>\n",
       "    <tr>\n",
       "      <th>89</th>\n",
       "      <td>Spanish Segunda Division B - Group 3</td>\n",
       "      <td>125</td>\n",
       "    </tr>\n",
       "    <tr>\n",
       "      <th>90</th>\n",
       "      <td>Spanish Segunda Division B - Group 4</td>\n",
       "      <td>127</td>\n",
       "    </tr>\n",
       "  </tbody>\n",
       "</table>\n",
       "<p>91 rows × 2 columns</p>\n",
       "</div>"
      ],
      "text/plain": [
       "                             Competition        ID\n",
       "0                    Swedish Allsvenskan       129\n",
       "1                               Specials   2608550\n",
       "2                   Spanish Copa del Rey     12801\n",
       "3                          Brazilian Cup     89219\n",
       "4          German Regionalliga Northeast    318343\n",
       "..                                   ...       ...\n",
       "86              Belgian First Division A     89979\n",
       "87  Spanish Segunda Division B - Group 2       123\n",
       "88                       Mexican Matches  12038731\n",
       "89  Spanish Segunda Division B - Group 3       125\n",
       "90  Spanish Segunda Division B - Group 4       127\n",
       "\n",
       "[91 rows x 2 columns]"
      ]
     },
     "execution_count": 27,
     "metadata": {},
     "output_type": "execute_result"
    }
   ],
   "source": [
    "soccer_competitions"
   ]
  },
  {
   "cell_type": "code",
   "execution_count": 30,
   "id": "51e32d3d",
   "metadata": {},
   "outputs": [
    {
     "name": "stdout",
     "output_type": "stream",
     "text": [
      "{'sport': 'Horse Racing', 'plan': 'Basic Plan', 'forDate': '2018-10-01T00:00:00', 'purchaseItemId': 25589}\n",
      "{'sport': 'Horse Racing', 'plan': 'Basic Plan', 'forDate': '2018-11-01T00:00:00', 'purchaseItemId': 25589}\n",
      "{'sport': 'Soccer', 'plan': 'Basic Plan', 'forDate': '2018-08-01T00:00:00', 'purchaseItemId': 25588}\n",
      "{'sport': 'Soccer', 'plan': 'Basic Plan', 'forDate': '2018-09-01T00:00:00', 'purchaseItemId': 25588}\n",
      "{'sport': 'Soccer', 'plan': 'Basic Plan', 'forDate': '2018-10-01T00:00:00', 'purchaseItemId': 25588}\n",
      "{'sport': 'Soccer', 'plan': 'Basic Plan', 'forDate': '2018-11-01T00:00:00', 'purchaseItemId': 25588}\n",
      "{'sport': 'Soccer', 'plan': 'Basic Plan', 'forDate': '2018-12-01T00:00:00', 'purchaseItemId': 25588}\n",
      "{'sport': 'Soccer', 'plan': 'Basic Plan', 'forDate': '2021-09-01T00:00:00', 'purchaseItemId': 67325}\n",
      "{'sport': 'Tennis', 'plan': 'Basic Plan', 'forDate': '2017-06-01T00:00:00', 'purchaseItemId': 552}\n",
      "{'totalSizeMB': 2, 'fileCount': 621}\n"
     ]
    },
    {
     "ename": "InvalidResponse",
     "evalue": "Invalid response received: \n<!DOCTYPE html>\n<html>\n<head>\n<meta name=\"viewport\" content=\"width=device-width\" />\n<title>ngErrorRedirect</title>\n</head>\n<body>\n<div>\nError\n</div>\n<script defer src=\"https://static.cloudflareinsights.com/beacon.min.js/v64f9daad31f64f81be21cbef6184a5e31634941392597\" integrity=\"sha512-gV/bogrUTVP2N3IzTDKzgP0Js1gg4fbwtYB6ftgLbKQu/V8yH2+lrKCfKHelh4SO3DPzKj4/glTO+tNJGDnb0A==\" data-cf-beacon='{\"rayId\":\"6be1b2025d047705\",\"token\":\"d048f65d27954a24aa6b1d7d2ddcb256\",\"version\":\"2021.12.0\",\"si\":100}' crossorigin=\"anonymous\"></script>\n</body>\n</html>\n",
     "output_type": "error",
     "traceback": [
      "\u001b[0;31m---------------------------------------------------------------------------\u001b[0m",
      "\u001b[0;31mJSONDecodeError\u001b[0m                           Traceback (most recent call last)",
      "\u001b[0;32m~/opt/anaconda3/lib/python3.9/site-packages/betfairlightweight/endpoints/historic.py\u001b[0m in \u001b[0;36mrequest\u001b[0;34m(self, method, params, session)\u001b[0m\n\u001b[1;32m    205\u001b[0m         \u001b[0;32mtry\u001b[0m\u001b[0;34m:\u001b[0m\u001b[0;34m\u001b[0m\u001b[0;34m\u001b[0m\u001b[0m\n\u001b[0;32m--> 206\u001b[0;31m             \u001b[0mresponse_json\u001b[0m \u001b[0;34m=\u001b[0m \u001b[0mjson\u001b[0m\u001b[0;34m.\u001b[0m\u001b[0mloads\u001b[0m\u001b[0;34m(\u001b[0m\u001b[0mresponse\u001b[0m\u001b[0;34m.\u001b[0m\u001b[0mcontent\u001b[0m\u001b[0;34m.\u001b[0m\u001b[0mdecode\u001b[0m\u001b[0;34m(\u001b[0m\u001b[0;34m\"utf-8\"\u001b[0m\u001b[0;34m)\u001b[0m\u001b[0;34m)\u001b[0m\u001b[0;34m\u001b[0m\u001b[0;34m\u001b[0m\u001b[0m\n\u001b[0m\u001b[1;32m    207\u001b[0m         \u001b[0;32mexcept\u001b[0m \u001b[0mValueError\u001b[0m\u001b[0;34m:\u001b[0m\u001b[0;34m\u001b[0m\u001b[0;34m\u001b[0m\u001b[0m\n",
      "\u001b[0;32m~/opt/anaconda3/lib/python3.9/json/__init__.py\u001b[0m in \u001b[0;36mloads\u001b[0;34m(s, cls, object_hook, parse_float, parse_int, parse_constant, object_pairs_hook, **kw)\u001b[0m\n\u001b[1;32m    345\u001b[0m             parse_constant is None and object_pairs_hook is None and not kw):\n\u001b[0;32m--> 346\u001b[0;31m         \u001b[0;32mreturn\u001b[0m \u001b[0m_default_decoder\u001b[0m\u001b[0;34m.\u001b[0m\u001b[0mdecode\u001b[0m\u001b[0;34m(\u001b[0m\u001b[0ms\u001b[0m\u001b[0;34m)\u001b[0m\u001b[0;34m\u001b[0m\u001b[0;34m\u001b[0m\u001b[0m\n\u001b[0m\u001b[1;32m    347\u001b[0m     \u001b[0;32mif\u001b[0m \u001b[0mcls\u001b[0m \u001b[0;32mis\u001b[0m \u001b[0;32mNone\u001b[0m\u001b[0;34m:\u001b[0m\u001b[0;34m\u001b[0m\u001b[0;34m\u001b[0m\u001b[0m\n",
      "\u001b[0;32m~/opt/anaconda3/lib/python3.9/json/decoder.py\u001b[0m in \u001b[0;36mdecode\u001b[0;34m(self, s, _w)\u001b[0m\n\u001b[1;32m    336\u001b[0m         \"\"\"\n\u001b[0;32m--> 337\u001b[0;31m         \u001b[0mobj\u001b[0m\u001b[0;34m,\u001b[0m \u001b[0mend\u001b[0m \u001b[0;34m=\u001b[0m \u001b[0mself\u001b[0m\u001b[0;34m.\u001b[0m\u001b[0mraw_decode\u001b[0m\u001b[0;34m(\u001b[0m\u001b[0ms\u001b[0m\u001b[0;34m,\u001b[0m \u001b[0midx\u001b[0m\u001b[0;34m=\u001b[0m\u001b[0m_w\u001b[0m\u001b[0;34m(\u001b[0m\u001b[0ms\u001b[0m\u001b[0;34m,\u001b[0m \u001b[0;36m0\u001b[0m\u001b[0;34m)\u001b[0m\u001b[0;34m.\u001b[0m\u001b[0mend\u001b[0m\u001b[0;34m(\u001b[0m\u001b[0;34m)\u001b[0m\u001b[0;34m)\u001b[0m\u001b[0;34m\u001b[0m\u001b[0;34m\u001b[0m\u001b[0m\n\u001b[0m\u001b[1;32m    338\u001b[0m         \u001b[0mend\u001b[0m \u001b[0;34m=\u001b[0m \u001b[0m_w\u001b[0m\u001b[0;34m(\u001b[0m\u001b[0ms\u001b[0m\u001b[0;34m,\u001b[0m \u001b[0mend\u001b[0m\u001b[0;34m)\u001b[0m\u001b[0;34m.\u001b[0m\u001b[0mend\u001b[0m\u001b[0;34m(\u001b[0m\u001b[0;34m)\u001b[0m\u001b[0;34m\u001b[0m\u001b[0;34m\u001b[0m\u001b[0m\n",
      "\u001b[0;32m~/opt/anaconda3/lib/python3.9/json/decoder.py\u001b[0m in \u001b[0;36mraw_decode\u001b[0;34m(self, s, idx)\u001b[0m\n\u001b[1;32m    354\u001b[0m         \u001b[0;32mexcept\u001b[0m \u001b[0mStopIteration\u001b[0m \u001b[0;32mas\u001b[0m \u001b[0merr\u001b[0m\u001b[0;34m:\u001b[0m\u001b[0;34m\u001b[0m\u001b[0;34m\u001b[0m\u001b[0m\n\u001b[0;32m--> 355\u001b[0;31m             \u001b[0;32mraise\u001b[0m \u001b[0mJSONDecodeError\u001b[0m\u001b[0;34m(\u001b[0m\u001b[0;34m\"Expecting value\"\u001b[0m\u001b[0;34m,\u001b[0m \u001b[0ms\u001b[0m\u001b[0;34m,\u001b[0m \u001b[0merr\u001b[0m\u001b[0;34m.\u001b[0m\u001b[0mvalue\u001b[0m\u001b[0;34m)\u001b[0m \u001b[0;32mfrom\u001b[0m \u001b[0;32mNone\u001b[0m\u001b[0;34m\u001b[0m\u001b[0;34m\u001b[0m\u001b[0m\n\u001b[0m\u001b[1;32m    356\u001b[0m         \u001b[0;32mreturn\u001b[0m \u001b[0mobj\u001b[0m\u001b[0;34m,\u001b[0m \u001b[0mend\u001b[0m\u001b[0;34m\u001b[0m\u001b[0;34m\u001b[0m\u001b[0m\n",
      "\u001b[0;31mJSONDecodeError\u001b[0m: Expecting value: line 2 column 1 (char 1)",
      "\nDuring handling of the above exception, another exception occurred:\n",
      "\u001b[0;31mInvalidResponse\u001b[0m                           Traceback (most recent call last)",
      "\u001b[0;32m/var/folders/db/6v4tjj_d3xvf7cd71bvmbsdh0000gn/T/ipykernel_28337/4288928636.py\u001b[0m in \u001b[0;36m<module>\u001b[0;34m\u001b[0m\n\u001b[1;32m     36\u001b[0m \u001b[0;34m\u001b[0m\u001b[0m\n\u001b[1;32m     37\u001b[0m \u001b[0;31m# get file list\u001b[0m\u001b[0;34m\u001b[0m\u001b[0;34m\u001b[0m\u001b[0m\n\u001b[0;32m---> 38\u001b[0;31m file_list = trading.historic.get_file_list(\n\u001b[0m\u001b[1;32m     39\u001b[0m  \u001b[0;34m\"Horse Racing\"\u001b[0m\u001b[0;34m,\u001b[0m\u001b[0;34m\u001b[0m\u001b[0;34m\u001b[0m\u001b[0m\n\u001b[1;32m     40\u001b[0m  \u001b[0;34m\"Basic Plan\"\u001b[0m\u001b[0;34m,\u001b[0m\u001b[0;34m\u001b[0m\u001b[0;34m\u001b[0m\u001b[0m\n",
      "\u001b[0;32m~/opt/anaconda3/lib/python3.9/site-packages/betfairlightweight/endpoints/historic.py\u001b[0m in \u001b[0;36mget_file_list\u001b[0;34m(self, sport, plan, from_day, from_month, from_year, to_day, to_month, to_year, event_id, event_name, market_types_collection, countries_collection, file_type_collection, session)\u001b[0m\n\u001b[1;32m    146\u001b[0m         \u001b[0mparams\u001b[0m \u001b[0;34m=\u001b[0m \u001b[0mclean_locals\u001b[0m\u001b[0;34m(\u001b[0m\u001b[0mlocals\u001b[0m\u001b[0;34m(\u001b[0m\u001b[0;34m)\u001b[0m\u001b[0;34m)\u001b[0m\u001b[0;34m\u001b[0m\u001b[0;34m\u001b[0m\u001b[0m\n\u001b[1;32m    147\u001b[0m         \u001b[0mmethod\u001b[0m \u001b[0;34m=\u001b[0m \u001b[0;34m\"DownloadListOfFiles\"\u001b[0m\u001b[0;34m\u001b[0m\u001b[0;34m\u001b[0m\u001b[0m\n\u001b[0;32m--> 148\u001b[0;31m         \u001b[0;34m(\u001b[0m\u001b[0mresponse\u001b[0m\u001b[0;34m,\u001b[0m \u001b[0mresponse_json\u001b[0m\u001b[0;34m,\u001b[0m \u001b[0melapsed_time\u001b[0m\u001b[0;34m)\u001b[0m \u001b[0;34m=\u001b[0m \u001b[0mself\u001b[0m\u001b[0;34m.\u001b[0m\u001b[0mrequest\u001b[0m\u001b[0;34m(\u001b[0m\u001b[0mmethod\u001b[0m\u001b[0;34m,\u001b[0m \u001b[0mparams\u001b[0m\u001b[0;34m,\u001b[0m \u001b[0msession\u001b[0m\u001b[0;34m)\u001b[0m\u001b[0;34m\u001b[0m\u001b[0;34m\u001b[0m\u001b[0m\n\u001b[0m\u001b[1;32m    149\u001b[0m         \u001b[0;32mreturn\u001b[0m \u001b[0mresponse_json\u001b[0m\u001b[0;34m\u001b[0m\u001b[0;34m\u001b[0m\u001b[0m\n\u001b[1;32m    150\u001b[0m \u001b[0;34m\u001b[0m\u001b[0m\n",
      "\u001b[0;32m~/opt/anaconda3/lib/python3.9/site-packages/betfairlightweight/endpoints/historic.py\u001b[0m in \u001b[0;36mrequest\u001b[0;34m(self, method, params, session)\u001b[0m\n\u001b[1;32m    206\u001b[0m             \u001b[0mresponse_json\u001b[0m \u001b[0;34m=\u001b[0m \u001b[0mjson\u001b[0m\u001b[0;34m.\u001b[0m\u001b[0mloads\u001b[0m\u001b[0;34m(\u001b[0m\u001b[0mresponse\u001b[0m\u001b[0;34m.\u001b[0m\u001b[0mcontent\u001b[0m\u001b[0;34m.\u001b[0m\u001b[0mdecode\u001b[0m\u001b[0;34m(\u001b[0m\u001b[0;34m\"utf-8\"\u001b[0m\u001b[0;34m)\u001b[0m\u001b[0;34m)\u001b[0m\u001b[0;34m\u001b[0m\u001b[0;34m\u001b[0m\u001b[0m\n\u001b[1;32m    207\u001b[0m         \u001b[0;32mexcept\u001b[0m \u001b[0mValueError\u001b[0m\u001b[0;34m:\u001b[0m\u001b[0;34m\u001b[0m\u001b[0;34m\u001b[0m\u001b[0m\n\u001b[0;32m--> 208\u001b[0;31m             \u001b[0;32mraise\u001b[0m \u001b[0mInvalidResponse\u001b[0m\u001b[0;34m(\u001b[0m\u001b[0mresponse\u001b[0m\u001b[0;34m.\u001b[0m\u001b[0mtext\u001b[0m\u001b[0;34m)\u001b[0m\u001b[0;34m\u001b[0m\u001b[0;34m\u001b[0m\u001b[0m\n\u001b[0m\u001b[1;32m    209\u001b[0m \u001b[0;34m\u001b[0m\u001b[0m\n\u001b[1;32m    210\u001b[0m         \u001b[0;32mreturn\u001b[0m \u001b[0mresponse\u001b[0m\u001b[0;34m,\u001b[0m \u001b[0mresponse_json\u001b[0m\u001b[0;34m,\u001b[0m \u001b[0melapsed_time\u001b[0m\u001b[0;34m\u001b[0m\u001b[0;34m\u001b[0m\u001b[0m\n",
      "\u001b[0;31mInvalidResponse\u001b[0m: Invalid response received: \n<!DOCTYPE html>\n<html>\n<head>\n<meta name=\"viewport\" content=\"width=device-width\" />\n<title>ngErrorRedirect</title>\n</head>\n<body>\n<div>\nError\n</div>\n<script defer src=\"https://static.cloudflareinsights.com/beacon.min.js/v64f9daad31f64f81be21cbef6184a5e31634941392597\" integrity=\"sha512-gV/bogrUTVP2N3IzTDKzgP0Js1gg4fbwtYB6ftgLbKQu/V8yH2+lrKCfKHelh4SO3DPzKj4/glTO+tNJGDnb0A==\" data-cf-beacon='{\"rayId\":\"6be1b2025d047705\",\"token\":\"d048f65d27954a24aa6b1d7d2ddcb256\",\"version\":\"2021.12.0\",\"si\":100}' crossorigin=\"anonymous\"></script>\n</body>\n</html>\n"
     ]
    }
   ],
   "source": []
  },
  {
   "cell_type": "code",
   "execution_count": null,
   "id": "68b0533c",
   "metadata": {},
   "outputs": [],
   "source": []
  }
 ],
 "metadata": {
  "kernelspec": {
   "display_name": "Python 3 (ipykernel)",
   "language": "python",
   "name": "python3"
  },
  "language_info": {
   "codemirror_mode": {
    "name": "ipython",
    "version": 3
   },
   "file_extension": ".py",
   "mimetype": "text/x-python",
   "name": "python",
   "nbconvert_exporter": "python",
   "pygments_lexer": "ipython3",
   "version": "3.9.7"
  }
 },
 "nbformat": 4,
 "nbformat_minor": 5
}
