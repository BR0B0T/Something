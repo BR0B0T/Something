{
 "cells": [
  {
   "cell_type": "code",
   "execution_count": 1,
   "id": "0cf70b19",
   "metadata": {},
   "outputs": [],
   "source": [
    "import betfairlightweight\n",
    "from betfairlightweight import filters\n",
    "import pandas as pd\n",
    "import numpy as np\n",
    "import os\n",
    "import datetime\n",
    "import json\n",
    "\n"
   ]
  },
  {
   "cell_type": "markdown",
   "id": "b1f4ce64",
   "metadata": {},
   "source": [
    "Login, change certs path and login_details..."
   ]
  },
  {
   "cell_type": "code",
   "execution_count": 3,
   "id": "b926c973",
   "metadata": {},
   "outputs": [],
   "source": [
    "certs_path = r'C:\\Users\\wardj\\Desktop\\certs'\n",
    "\n",
    "my_username = \"your_username\"\n",
    "my_password = \"your_password\"\n",
    "my_app_key  = \"your_app_key\"\n",
    "\n",
    "trading = betfairlightweight.APIClient(username=my_username,\n",
    "                                       password=my_password,\n",
    "                                       app_key=my_app_key,\n",
    "                                       certs=certs_path)\n",
    "\n",
    "trading.login()"
   ]
  },
  {
   "cell_type": "markdown",
   "id": "68d1c7f4",
   "metadata": {},
   "source": [
    "Get the event IDs...This will return a list\n",
    "\n",
    "Sort and store into a pandas DataFrame."
   ]
  },
  {
   "cell_type": "code",
   "execution_count": null,
   "id": "031f8d96",
   "metadata": {},
   "outputs": [],
   "source": [
    "event_types = trading.betting.list_event_types()\n",
    "\n",
    "sport_ids = pd.DataFrame({\n",
    "    'Sport': [event_type_object.event_type.name for event_type_object in event_types],\n",
    "    'ID': [event_type_object.event_type.id for event_type_object in event_types]\n",
    "}).set_index('Sport').sort_index()\n",
    "\n",
    "sport_ids"
   ]
  },
  {
   "cell_type": "markdown",
   "id": "4937d18f",
   "metadata": {},
   "source": [
    "To filter for a single sport such as horse racing...the ID is 7"
   ]
  },
  {
   "cell_type": "code",
   "execution_count": null,
   "id": "fd2beecf",
   "metadata": {},
   "outputs": [],
   "source": [
    "horse_racing_filter = `betfairlightweight`.filters.market_filter(text_query='Horse Racing')\n",
    "\n",
    "horse_racing_event_type = trading.betting.list_event_types(filter=horse_racing_filter)\n",
    "horse_racing_event_type = horse_racing_event_type[0]\n",
    "\n",
    "horse_racing_event_type_id = horse_racing_event_type.event_type.id\n",
    "horse_racing_event_type_id"
   ]
  },
  {
   "cell_type": "markdown",
   "id": "fd127530",
   "metadata": {},
   "source": [
    "Filtering for EPL games in the next week\n",
    "\n",
    "Get a datetime object in a week and convert to string"
   ]
  },
  {
   "cell_type": "code",
   "execution_count": null,
   "id": "92ba7cec",
   "metadata": {},
   "outputs": [],
   "source": [
    "datetime_in_a_week = (datetime.datetime.utcnow() + datetime.timedelta(weeks=1)).strftime(\"%Y-%m-%dT%TZ\")"
   ]
  },
  {
   "cell_type": "markdown",
   "id": "b5cf9f64",
   "metadata": {},
   "source": [
    "Create a competition filter...(ID=1)"
   ]
  },
  {
   "cell_type": "code",
   "execution_count": null,
   "id": "b22cc4cd",
   "metadata": {},
   "outputs": [],
   "source": [
    "competition_filter = `betfairlightweight`.filters.market_filter(event_type_ids=[1],\n",
    "                                          market_start_time={'to': datetime_in_a_week})"
   ]
  },
  {
   "cell_type": "markdown",
   "id": "9457e3d4",
   "metadata": {},
   "source": [
    "Get a list of competitions for soccer (Football 4fs betfair)"
   ]
  },
  {
   "cell_type": "code",
   "execution_count": null,
   "id": "71105b71",
   "metadata": {},
   "outputs": [],
   "source": [
    "competitions = trading.betting.list_competitions(filter=competition_filter)"
   ]
  },
  {
   "cell_type": "markdown",
   "id": "404976ce",
   "metadata": {},
   "source": [
    "Iterate over the competitions and create a dataframe of competitions and competition ids"
   ]
  },
  {
   "cell_type": "code",
   "execution_count": null,
   "id": "51c1035f",
   "metadata": {},
   "outputs": [],
   "source": [
    "soccer_competitions = pd.DataFrame({\n",
    "    'Competition': [competition_object.competition.name for competition_object in competitions],\n",
    "    'ID': [competition_object.competition.id for competition_object in competitions]\n",
    "})"
   ]
  },
  {
   "cell_type": "code",
   "execution_count": null,
   "id": "3a705b99",
   "metadata": {},
   "outputs": [],
   "source": []
  },
  {
   "cell_type": "code",
   "execution_count": null,
   "id": "51e32d3d",
   "metadata": {},
   "outputs": [],
   "source": []
  }
 ],
 "metadata": {
  "kernelspec": {
   "display_name": "Python 3",
   "language": "python",
   "name": "python3"
  },
  "language_info": {
   "codemirror_mode": {
    "name": "ipython",
    "version": 3
   },
   "file_extension": ".py",
   "mimetype": "text/x-python",
   "name": "python",
   "nbconvert_exporter": "python",
   "pygments_lexer": "ipython3",
   "version": "3.8.8"
  }
 },
 "nbformat": 4,
 "nbformat_minor": 5
}
