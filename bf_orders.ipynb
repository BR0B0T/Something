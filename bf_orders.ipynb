{
 "cells": [
  {
   "cell_type": "code",
   "execution_count": 33,
   "id": "b5e39246",
   "metadata": {},
   "outputs": [],
   "source": [
    "import betfairlightweight\n",
    "from   betfairlightweight import filters\n",
    "import pandas as pd\n",
    "import numpy as np\n",
    "import os\n",
    "import datetime\n",
    "import json"
   ]
  },
  {
   "cell_type": "markdown",
   "id": "4bd134d1",
   "metadata": {},
   "source": [
    "Login etc..."
   ]
  },
  {
   "cell_type": "code",
   "execution_count": 34,
   "id": "dd8bc7a1",
   "metadata": {},
   "outputs": [
    {
     "data": {
      "text/plain": [
       "<LoginResource>"
      ]
     },
     "execution_count": 34,
     "metadata": {},
     "output_type": "execute_result"
    }
   ],
   "source": [
    "my_username = \"darrenlogue\"\n",
    "my_password = \"Fangman123!\"\n",
    "my_app_key  = \"LwpwussYFAn9kO7f\"\n",
    "\n",
    "trading = betfairlightweight.APIClient(username=my_username,\n",
    "                                       password=my_password,\n",
    "                                       app_key=my_app_key)\n",
    "\n",
    "trading.login_interactive()"
   ]
  },
  {
   "cell_type": "markdown",
   "id": "9d783a38",
   "metadata": {},
   "source": [
    "Get the event types i.e. Sports, ids etc"
   ]
  },
  {
   "cell_type": "code",
   "execution_count": 35,
   "id": "78e02e2d",
   "metadata": {},
   "outputs": [],
   "source": [
    "results = trading.betting.list_event_types()"
   ]
  },
  {
   "cell_type": "code",
   "execution_count": 36,
   "id": "7b75b0f5",
   "metadata": {},
   "outputs": [
    {
     "name": "stdout",
     "output_type": "stream",
     "text": [
      "1 Soccer 12055\n",
      "2 Tennis 601\n",
      "3 Golf 7\n",
      "4 Cricket 372\n",
      "5 Rugby Union 80\n",
      "1477 Rugby League 1\n",
      "6 Boxing 25\n",
      "7 Horse Racing 793\n",
      "8 Motor Sport 2\n",
      "27454571 Esports 52\n",
      "10 Special Bets 25\n",
      "998917 Volleyball 18\n",
      "11 Cycling 1\n",
      "2152880 Gaelic Games 1\n",
      "6422 Snooker 36\n",
      "6423 American Football 269\n",
      "7511 Baseball 1\n",
      "451485 Winter Sports 18\n",
      "7522 Basketball 295\n",
      "7524 Ice Hockey 189\n",
      "61420 Australian Rules 5\n",
      "468328 Handball 67\n",
      "3503 Darts 258\n",
      "26420387 Mixed Martial Arts 56\n",
      "4339 Greyhound Racing 88\n",
      "2378961 Politics 49\n"
     ]
    }
   ],
   "source": [
    "for i in results:\n",
    "    print(i.event_type.id, i.event_type.name, i.market_count)"
   ]
  },
  {
   "cell_type": "markdown",
   "id": "921a5c76",
   "metadata": {},
   "source": [
    "list events using a market filter..."
   ]
  },
  {
   "cell_type": "code",
   "execution_count": 37,
   "id": "04580c37",
   "metadata": {},
   "outputs": [
    {
     "name": "stdout",
     "output_type": "stream",
     "text": [
      "31133019 Burnie (AUS) 17th Dec 14\n",
      "31103839 Ascot 18th Dec 2\n",
      "31131612 Lismore (AUS) 17th Dec 16\n",
      "31132107 Uttoxeter 17th Dec 35\n",
      "31131599 Eagle Farm (AUS) 18th Dec 18\n",
      "31133774 Ascot 18th Dec 6\n",
      "31120332 Leopardstown 28th Dec 1\n",
      "30362199 2022 Antepost 4\n",
      "30222167 Kempton 26th Dec 1\n",
      "12713050 Daily Win Dist Odds 1\n",
      "31119041 Randwick (AUS) 2nd Apr 2\n",
      "31131589 Gloucester Park (AUS) 17th Dec 20\n",
      "31034744 Flemington (AUS) 1st Nov 1\n",
      "31132536 Charles Town (US) 16th Dec 8\n",
      "31132540 Remington Park (US) 16th Dec 9\n",
      "31131507 Moonee Valley (AUS) 17th Dec 16\n",
      "31132530 Delta Downs (US) 16th Dec 7\n",
      "31133814 Wolverhampton 18th Dec 7\n",
      "31132533 Turf Paradise (US) 16th Dec 16\n",
      "31131508 Randwick (AUS) 18th Dec 20\n",
      "31132523 Aqueduct (US) 16th Dec 8\n",
      "31132522 Gulfstream Park (US) 16th Dec 12\n",
      "31133802 Newcastle 18th Dec 7\n",
      "31132136 Southwell 17th Dec 39\n",
      "31132513 Laurel Park (US) 16th Dec 10\n",
      "31131547 Yarra Valley (AUS) 17th Dec 16\n",
      "31119001 Caulfield (AUS) 26th Feb 1\n",
      "31131551 Albany (AUS) 17th Dec 18\n",
      "31133855 Deauville (FRA) 17th Dec 10\n",
      "31132189 Dundalk 17th Dec 34\n",
      "31131539 Albion Park (AUS) 17th Dec 18\n",
      "31083538 Gold Coast (AUS) 15th Jan 2\n",
      "31131538 Esperance (AUS) 17th Dec 14\n",
      "31131543 Canterbury (AUS) 17th Dec 16\n",
      "31133847 Haydock 18th Dec 7\n",
      "31131542 South Australia (AUS) 17th Dec 16\n",
      "31133590 Fairview (RSA) 17th Dec 8\n",
      "31133846 Cagnes-sur-Mer (FRA) 17th Dec 7\n",
      "31131541 Otaki (NZL) 17th Dec 16\n",
      "31132180 Kempton 17th Dec 38\n",
      "31109130 Randwick (AUS) 9th Apr 2\n",
      "31131530 Flemington (AUS) 18th Dec 18\n",
      "30926340 Cheltenham Festival 2022 17\n",
      "30981901 Rosehill (AUS) 19th Mar 1\n",
      "31131534 Cobram (AUS) 17th Dec 20\n",
      "31131533 Morphettville (AUS) 17th Dec 16\n",
      "31131532 Melton (AUS) 17th Dec 24\n",
      "31131523 Dubbo (AUS) 17th Dec 18\n",
      "31131522 Gawler (AUS) 18th Dec 18\n",
      "31131521 Wagga (AUS) 17th Dec 16\n",
      "31117318 Flemington (AUS) 19th Mar 1\n",
      "31131652 Goulburn (AUS) 17th Dec 14\n",
      "31039677 Moonee Valley (AUS) 22nd Oct 1\n",
      "27088631 Specials 2\n",
      "31131702 Ascot (AUS) 18th Dec 20\n",
      "31075252 Chepstow 27th Dec 1\n",
      "31042359 Randwick (AUS) 15th Oct 1\n",
      "31133876 Navan 18th Dec 8\n",
      "31132079 Ascot 17th Dec 25\n",
      "31042349 Caulfield (AUS) 15th Oct 1\n",
      "31132327 Addington (NZL) 17th Dec 18\n",
      "31131557 Moe (AUS) 17th Dec 18\n",
      "31132324 Alexandra Park (NZL) 17th Dec 19\n",
      "31131556 Sunshine Coast (AUS) 17th Dec 14\n"
     ]
    }
   ],
   "source": [
    "racing_filter = filters.market_filter(text_query=\"Horse Racing\")\n",
    "results = trading.betting.list_events(filter=racing_filter)\n",
    "\n",
    "for i in results:\n",
    "    print(i.event.id, i.event.name, i.market_count)"
   ]
  },
  {
   "cell_type": "markdown",
   "id": "9c1c28da",
   "metadata": {},
   "source": [
    "Get static market data using listMarketCatalogue..."
   ]
  },
  {
   "cell_type": "code",
   "execution_count": 38,
   "id": "994ffb5c",
   "metadata": {},
   "outputs": [
    {
     "name": "stdout",
     "output_type": "stream",
     "text": [
      "1.192433827 11:40 Uttoxeter (WIN)\n",
      "1.192433988 11:50 Southwell (WIN)\n",
      "1.192433832 12:15 Uttoxeter (WIN)\n",
      "1.192433993 12:25 Southwell (WIN)\n",
      "1.192433769 12:35 Ascot (WIN)\n",
      "1.192433837 12:50 Uttoxeter (WIN)\n",
      "1.192433998 13:00 Southwell (WIN)\n",
      "1.192433774 13:10 Ascot (WIN)\n",
      "1.192433842 13:25 Uttoxeter (WIN)\n",
      "1.192434003 13:35 Southwell (WIN)\n",
      "1.192433779 13:45 Ascot (WIN)\n",
      "1.192433847 14:00 Uttoxeter (WIN)\n",
      "1.192434008 14:10 Southwell (WIN)\n",
      "1.192433784 14:20 Ascot (WIN)\n",
      "1.192433852 14:35 Uttoxeter (WIN)\n",
      "1.192434013 14:45 Southwell (WIN)\n",
      "1.192433789 14:55 Ascot (WIN)\n",
      "1.192433857 15:10 Uttoxeter (WIN)\n",
      "1.192434018 15:20 Southwell (WIN)\n",
      "1.192433794 15:30 Ascot (WIN)\n",
      "1.192434023 15:50 Southwell (WIN)\n",
      "1.192434746 16:15 Kempton (WIN)\n",
      "1.192434751 16:45 Kempton (WIN)\n",
      "1.192434756 17:15 Kempton (WIN)\n",
      "1.192434761 17:45 Kempton (WIN)\n",
      "1.192434766 18:15 Kempton (WIN)\n",
      "1.192434771 18:45 Kempton (WIN)\n",
      "1.192434776 19:15 Kempton (WIN)\n",
      "1.192434781 19:45 Kempton (WIN)\n",
      "1.192468672 11:50 Haydock (WIN)\n",
      "1.192468439 12:00 Newcastle (WIN)\n",
      "1.192468677 12:20 Haydock (WIN)\n",
      "1.192468444 12:30 Newcastle (WIN)\n",
      "1.192468328 12:40 Ascot (WIN)\n",
      "1.192468682 12:55 Haydock (WIN)\n",
      "1.192468449 13:05 Newcastle (WIN)\n",
      "1.192468335 13:15 Ascot (WIN)\n",
      "1.192468687 13:30 Haydock (WIN)\n",
      "1.192468454 13:40 Newcastle (WIN)\n",
      "1.192468342 13:50 Ascot (WIN)\n",
      "1.192468692 14:05 Haydock (WIN)\n",
      "1.192468459 14:15 Newcastle (WIN)\n",
      "1.192468349 14:25 Ascot (WIN)\n",
      "1.192468697 14:40 Haydock (WIN)\n",
      "1.192468464 14:50 Newcastle (WIN)\n",
      "1.192468356 15:00 Ascot (WIN)\n",
      "1.192468702 15:15 Haydock (WIN)\n",
      "1.192468469 15:25 Newcastle (WIN)\n",
      "1.192468363 15:35 Ascot (WIN)\n",
      "1.192468477 16:00 Wolverhampton (WIN)\n",
      "1.192468482 16:30 Wolverhampton (WIN)\n",
      "1.192468487 17:00 Wolverhampton (WIN)\n",
      "1.192468492 17:30 Wolverhampton (WIN)\n",
      "1.192468497 18:00 Wolverhampton (WIN)\n",
      "1.192468502 18:30 Wolverhampton (WIN)\n",
      "1.192468507 19:00 Wolverhampton (WIN)\n"
     ]
    }
   ],
   "source": [
    "racing_filter = filters.market_filter(event_type_ids=[7],  \n",
    "                                      market_countries=[\"GB\"],\n",
    "                                      market_type_codes=[\"WIN\"])\n",
    "\n",
    "market_projection=[\"RUNNER_DESCRIPTION\", \n",
    "                   \"RUNNER_METADATA\", \n",
    "                   \"COMPETITION\", \n",
    "                   \"EVENT\", \n",
    "                   \"EVENT_TYPE\", \n",
    "                   \"MARKET_DESCRIPTION\", \n",
    "                   \"MARKET_START_TIME\"]\n",
    "\n",
    "results = trading.betting.list_market_catalogue(market_projection=market_projection,\n",
    "                                                filter=racing_filter,\n",
    "                                                max_results=100)\n",
    "for i in results:\n",
    "    print(\"{0} {1:d}:{2:02d} {3} ({4})\".format(i.market_id, i.market_start_time.hour, \n",
    "                                               i.market_start_time.minute, i.event.venue,  \n",
    "                                               i.description.market_type))"
   ]
  },
  {
   "cell_type": "markdown",
   "id": "283218d0",
   "metadata": {},
   "source": [
    "Dynamic market price request using listMarketBook...\n",
    "\n",
    "Change the id (and rem there might not be any more races today)"
   ]
  },
  {
   "cell_type": "code",
   "execution_count": 39,
   "id": "ad848029",
   "metadata": {},
   "outputs": [
    {
     "name": "stdout",
     "output_type": "stream",
     "text": [
      "1.192433827 False OPEN 209.6\n",
      "41707918 ACTIVE 2.74 0.0\n",
      "28182160 ACTIVE 4.7 0.0\n",
      "10216476 ACTIVE 5.0 0.0\n",
      "41731455 ACTIVE None 0.0\n",
      "42091524 ACTIVE None 0.0\n",
      "42091523 ACTIVE 28.0 0.0\n",
      "38612565 ACTIVE 12.5 0.0\n",
      "36585609 ACTIVE None 0.0\n",
      "39127721 ACTIVE None 0.0\n",
      "41731485 ACTIVE None 0.0\n",
      "37471778 REMOVED None None\n"
     ]
    }
   ],
   "source": [
    "price_projection = filters.price_projection(price_data=filters.price_data(ex_all_offers=True))\n",
    "\n",
    "market_books = trading.betting.list_market_book(market_ids=[\"1.192433827\"], price_projection=price_projection)\n",
    "\n",
    "for market_book in market_books:\n",
    "    print(market_book.market_id, market_book.inplay, market_book.status, market_book.total_matched)\n",
    "    for runner in market_book.runners:  \n",
    "        print(runner.selection_id, runner.status, runner.last_price_traded, runner.total_matched)"
   ]
  },
  {
   "cell_type": "markdown",
   "id": "2d4e395e",
   "metadata": {},
   "source": [
    "#### Place Order"
   ]
  },
  {
   "cell_type": "code",
   "execution_count": 51,
   "id": "5e45d0ad",
   "metadata": {},
   "outputs": [
    {
     "name": "stdout",
     "output_type": "stream",
     "text": [
      "SUCCESS\n",
      "Status: SUCCESS, BetId: 253763382184, Average Price Matched: 0.0\n"
     ]
    }
   ],
   "source": [
    "market_id    = \"1.192433827\"\n",
    "selection_id = 41707918\n",
    "limit_order  = filters.limit_order(size=2.00, price=1.01, persistence_type=\"LAPSE\")\n",
    "\n",
    "instruction  = filters.place_instruction(order_type=\"LIMIT\", \n",
    "                                         selection_id=selection_id, \n",
    "                                         side=\"LAY\", \n",
    "                                         limit_order=limit_order)\n",
    "\n",
    "place_orders = trading.betting.place_orders(market_id=market_id, instructions=[instruction])\n",
    "print(place_orders.status)\n",
    "\n",
    "for order in place_orders.place_instruction_reports:\n",
    "    print(\"Status: {0}, BetId: {1}, Average Price Matched: {2}\".format(order.status,  \n",
    "                                                                       order.bet_id,  \n",
    "                                                                       order.average_price_matched))"
   ]
  },
  {
   "cell_type": "markdown",
   "id": "45ac9e17",
   "metadata": {},
   "source": [
    "#### Update Order"
   ]
  },
  {
   "cell_type": "code",
   "execution_count": 52,
   "id": "dccae3e8",
   "metadata": {},
   "outputs": [
    {
     "name": "stdout",
     "output_type": "stream",
     "text": [
      "SUCCESS\n",
      "Status: SUCCESS\n"
     ]
    }
   ],
   "source": [
    "bet_id = 253763382184\n",
    "instruction  = filters.update_instruction(bet_id=bet_id, new_persistence_type=\"PERSIST\")\n",
    "update_order = trading.betting.update_orders(market_id=market_id, instructions=[instruction])\n",
    "\n",
    "print(update_order.status)\n",
    "for order in update_order.update_instruction_reports:\n",
    "    print(\"Status: {0}\".format(order.status))"
   ]
  },
  {
   "cell_type": "markdown",
   "id": "e54f5e3c",
   "metadata": {},
   "source": [
    "#### Replace Order"
   ]
  },
  {
   "cell_type": "code",
   "execution_count": 53,
   "id": "f5d16086",
   "metadata": {
    "scrolled": true
   },
   "outputs": [
    {
     "name": "stdout",
     "output_type": "stream",
     "text": [
      "Status: SUCCESS, New BetId: 253763422603, Average Price Matched: 0.0\n"
     ]
    }
   ],
   "source": [
    "instruction   = filters.replace_instruction(bet_id=bet_id, new_price=1.10)\n",
    "replace_order = trading.betting.replace_orders(market_id=market_id, instructions=[instruction])\n",
    "\n",
    "for order in replace_order.replace_instruction_reports:\n",
    "    place_report  = order.place_instruction_reports\n",
    "    cancel_report = order.cancel_instruction_reports\n",
    "    print(\"Status: {0}, New BetId: {1}, Average Price Matched: {2}\".format(order.status, \n",
    "                                                                           place_report.bet_id, \n",
    "                                                                           place_report.average_price_matched))"
   ]
  },
  {
   "cell_type": "markdown",
   "id": "3d3b026d",
   "metadata": {},
   "source": [
    "#### Cancel Order"
   ]
  },
  {
   "cell_type": "code",
   "execution_count": 54,
   "id": "1744a6e7",
   "metadata": {},
   "outputs": [
    {
     "name": "stdout",
     "output_type": "stream",
     "text": [
      "Status: SUCCESS, Size Cancelled: 2.0, Cancelled Date: 2021-12-16 19:56:21\n"
     ]
    }
   ],
   "source": [
    "bet_id = 253763422603\n",
    "\n",
    "instruction  = filters.cancel_instruction(bet_id=bet_id, size_reduction=2.00)\n",
    "cancel_order = trading.betting.cancel_orders(market_id=market_id, instructions=[instruction])\n",
    "\n",
    "for cancel in cancel_order.cancel_instruction_reports:\n",
    "    print(\"Status: {0}, Size Cancelled: {1}, Cancelled Date: {2}\".format(cancel.status,  \n",
    "                                                                         cancel.size_cancelled, \n",
    "                                                                         cancel.cancelled_date))"
   ]
  }
 ],
 "metadata": {
  "kernelspec": {
   "display_name": "Python 3 (ipykernel)",
   "language": "python",
   "name": "python3"
  },
  "language_info": {
   "codemirror_mode": {
    "name": "ipython",
    "version": 3
   },
   "file_extension": ".py",
   "mimetype": "text/x-python",
   "name": "python",
   "nbconvert_exporter": "python",
   "pygments_lexer": "ipython3",
   "version": "3.9.7"
  }
 },
 "nbformat": 4,
 "nbformat_minor": 5
}
