{
 "cells": [
  {
   "cell_type": "markdown",
   "id": "3c2a0d23",
   "metadata": {},
   "source": [
    "### Vector Arithmetic\n",
    "---\n",
    "\n",
    "A vector is a tuple of one or more values called scalars.\n",
    "\n",
    "Vectors are often represented using a lowercase character such as v; for example:\n",
    "\n",
    "$$ v = \\begin{pmatrix}\n",
    "v_1, & v_2, & v_3\\\\\n",
    "\\end{pmatrix}$$\n",
    "\n",
    "Where v1, v2, v3 are scalar values\n",
    "\n",
    "Vectors are also shown using a vertical representation or a column; for example:\n",
    "\n",
    "$$ v = \\begin{pmatrix}\n",
    "v_1 \\\\ v_2 \\\\ v_3\\\\\n",
    "\\end{pmatrix}$$\n",
    "\n",
    "We can represent a vector in Python as a NumPy array..."
   ]
  },
  {
   "cell_type": "code",
   "execution_count": 6,
   "id": "ed360a2b",
   "metadata": {},
   "outputs": [],
   "source": [
    "import numpy as np"
   ]
  },
  {
   "cell_type": "code",
   "execution_count": 3,
   "id": "eda77e9f",
   "metadata": {},
   "outputs": [
    {
     "data": {
      "text/plain": [
       "array([1, 2, 3])"
      ]
     },
     "execution_count": 3,
     "metadata": {},
     "output_type": "execute_result"
    }
   ],
   "source": [
    "v = np.array([1, 2, 3])\n",
    "v"
   ]
  },
  {
   "cell_type": "markdown",
   "id": "681bb722",
   "metadata": {},
   "source": [
    "#### Vector Addition\n",
    "\n",
    "Two vectors of equal length can be added together to create a new third vector.\n",
    "\n",
    "$$ \\large{c = a + b}$$\n",
    "\n",
    "The new vector has the same length as the other two vectors. \n",
    "\n",
    "Each element of the new vector is calculated as the addition of the elements of the other vectors at the same index; \n",
    "\n",
    "$$ \\large{c + (a_1 + b_1,\\, a_2 + b_2,\\, a_3 + b_3)} $$\n",
    "\n",
    "We can add vectors directly in Python by adding NumPy arrays."
   ]
  },
  {
   "cell_type": "code",
   "execution_count": 5,
   "id": "b60445cd",
   "metadata": {},
   "outputs": [
    {
     "data": {
      "text/plain": [
       "array([2, 4, 6])"
      ]
     },
     "execution_count": 5,
     "metadata": {},
     "output_type": "execute_result"
    }
   ],
   "source": [
    "a = np.array([1, 2, 3])\n",
    "b = np.array([1, 2, 3]) \n",
    "c = a + b\n",
    "c"
   ]
  },
  {
   "cell_type": "markdown",
   "id": "00952270",
   "metadata": {},
   "source": [
    "#### Vector Subtraction\n",
    "\n",
    "One vector can be subtracted from another vector of equal length to create a new third vector. \n",
    "\n",
    "$$ \\large{c = a - b}$$ \n",
    "  \n",
    "As with addition, the new vector has the same length as the parent vectors \n",
    "\n",
    "Each element of the new vector is calculated as the subtraction of the elements at the same indices. \n",
    "\n",
    "$$ \\large{c = (a_1 - b_1, \\,a_2 - b_2, \\, a_3 - b_3)} $$\n",
    "\n",
    "In python..."
   ]
  },
  {
   "cell_type": "code",
   "execution_count": 8,
   "id": "03ff06a4",
   "metadata": {},
   "outputs": [
    {
     "data": {
      "text/plain": [
       "array([0.5, 1.5, 2.5])"
      ]
     },
     "execution_count": 8,
     "metadata": {},
     "output_type": "execute_result"
    }
   ],
   "source": [
    "a = np.array([1.0, 2.0, 3.0])\n",
    "b = np.array([0.5, 0.5, 0.5])\n",
    "c = a - b\n",
    "c"
   ]
  },
  {
   "cell_type": "markdown",
   "id": "e5e5e1f4",
   "metadata": {},
   "source": [
    "#### Vector Multiplication\n",
    "\n",
    "Two vectors of equal length can be multiplied together.\n",
    "\n",
    "$$ \\large{c = a \\times b} $$\n",
    "\n",
    "As with addition and subtraction, this operation is performed element-wise to result in a\n",
    "\n",
    "new vector of the same length.\n",
    "\n",
    "$$ \\large{c = (a_1 \\times b_1, \\, a_2 \\times b_2, \\, a_3 \\times b_3)} $$"
   ]
  },
  {
   "cell_type": "code",
   "execution_count": 9,
   "id": "28bd48f2",
   "metadata": {},
   "outputs": [
    {
     "data": {
      "text/plain": [
       "array([1, 4, 9])"
      ]
     },
     "execution_count": 9,
     "metadata": {},
     "output_type": "execute_result"
    }
   ],
   "source": [
    "a = np.array([1, 2, 3])\n",
    "b = np.array([1, 2, 3]) \n",
    "c = a * b\n",
    "c"
   ]
  },
  {
   "cell_type": "markdown",
   "id": "4c5d1ec6",
   "metadata": {},
   "source": [
    "#### Vector Division\n",
    "\n",
    "Two vectors of equal length can be divided.\n",
    "  \n",
    "$$ \\large{c = \\frac{a}{b}} $$\n",
    "\n",
    "As with other arithmetic operations, this operation is performed element-wise\n",
    "\n",
    "$$ \\large{c = \\begin{pmatrix}\n",
    "\\frac{a_1}{b_1}, & \\frac{a_2}{b_2}, & \\frac{a_3}{a_4}\\\\\n",
    "\\end{pmatrix}}$$\n"
   ]
  },
  {
   "cell_type": "code",
   "execution_count": 11,
   "id": "cf311f9e",
   "metadata": {},
   "outputs": [
    {
     "data": {
      "text/plain": [
       "array([2., 2., 2.])"
      ]
     },
     "execution_count": 11,
     "metadata": {},
     "output_type": "execute_result"
    }
   ],
   "source": [
    "a = np.array([2, 4, 6])\n",
    "b = np.array([1, 2, 3]) \n",
    "c = a / b\n",
    "c"
   ]
  },
  {
   "cell_type": "code",
   "execution_count": null,
   "id": "e6cbf17b",
   "metadata": {},
   "outputs": [],
   "source": []
  }
 ],
 "metadata": {
  "kernelspec": {
   "display_name": "Python 3",
   "language": "python",
   "name": "python3"
  },
  "language_info": {
   "codemirror_mode": {
    "name": "ipython",
    "version": 3
   },
   "file_extension": ".py",
   "mimetype": "text/x-python",
   "name": "python",
   "nbconvert_exporter": "python",
   "pygments_lexer": "ipython3",
   "version": "3.8.8"
  }
 },
 "nbformat": 4,
 "nbformat_minor": 5
}
