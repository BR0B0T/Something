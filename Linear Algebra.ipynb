{
 "cells": [
  {
   "cell_type": "markdown",
   "id": "3c2a0d23",
   "metadata": {},
   "source": [
    "### Vector Arithmetic\n",
    "---\n",
    "\n",
    "A vector is a tuple of one or more values called scalars.\n",
    "\n",
    "Vectors are often represented using a lowercase character such as v; for example:\n",
    "\n",
    "$$ v = \\begin{pmatrix}\n",
    "v_1, & v_2, & v_3\\\\\n",
    "\\end{pmatrix}$$\n",
    "\n",
    "Where v1, v2, v3 are scalar values\n",
    "\n",
    "Vectors are also shown using a vertical representation or a column; for example:\n",
    "\n",
    "$$ v = \\begin{pmatrix}\n",
    "v_1 \\\\ v_2 \\\\ v_3\\\\\n",
    "\\end{pmatrix}$$\n",
    "\n",
    "We can represent a vector in Python as a NumPy array..."
   ]
  },
  {
   "cell_type": "code",
   "execution_count": 3,
   "id": "ed360a2b",
   "metadata": {},
   "outputs": [],
   "source": [
    "import numpy as np"
   ]
  },
  {
   "cell_type": "code",
   "execution_count": 3,
   "id": "eda77e9f",
   "metadata": {},
   "outputs": [
    {
     "data": {
      "text/plain": [
       "array([1, 2, 3])"
      ]
     },
     "execution_count": 3,
     "metadata": {},
     "output_type": "execute_result"
    }
   ],
   "source": [
    "v = np.array([1, 2, 3])\n",
    "v"
   ]
  },
  {
   "cell_type": "markdown",
   "id": "681bb722",
   "metadata": {},
   "source": [
    "#### Vector Addition\n",
    "\n",
    "Two vectors of equal length can be added together to create a new third vector.\n",
    "\n",
    "$$ c = a + b $$\n",
    "\n",
    "The new vector has the same length as the other two vectors. \n",
    "\n",
    "Each element of the new vector is calculated as the addition of the elements of the other vectors at the same index; \n",
    "\n",
    "$$ c + (a_1 + b_1,\\, a_2 + b_2,\\, a_3 + b_3) $$\n",
    "\n",
    "We can add vectors directly in Python by adding NumPy arrays."
   ]
  },
  {
   "cell_type": "code",
   "execution_count": 5,
   "id": "b60445cd",
   "metadata": {},
   "outputs": [
    {
     "data": {
      "text/plain": [
       "array([2, 4, 6])"
      ]
     },
     "execution_count": 5,
     "metadata": {},
     "output_type": "execute_result"
    }
   ],
   "source": [
    "a = np.array([1, 2, 3])\n",
    "b = np.array([1, 2, 3]) \n",
    "c = a + b\n",
    "c"
   ]
  },
  {
   "cell_type": "markdown",
   "id": "00952270",
   "metadata": {},
   "source": [
    "#### Vector Subtraction\n",
    "\n",
    "One vector can be subtracted from another vector of equal length to create a new third vector. \n",
    "\n",
    "$$ c = a - b $$ \n",
    "  \n",
    "As with addition, the new vector has the same length as the parent vectors \n",
    "\n",
    "Each element of the new vector is calculated as the subtraction of the elements at the same indices. \n",
    "\n",
    "$$ c = (a_1 - b_1, \\,a_2 - b_2, \\, a_3 - b_3) $$\n",
    "\n",
    "In python..."
   ]
  },
  {
   "cell_type": "code",
   "execution_count": 8,
   "id": "03ff06a4",
   "metadata": {},
   "outputs": [
    {
     "data": {
      "text/plain": [
       "array([0.5, 1.5, 2.5])"
      ]
     },
     "execution_count": 8,
     "metadata": {},
     "output_type": "execute_result"
    }
   ],
   "source": [
    "a = np.array([1.0, 2.0, 3.0])\n",
    "b = np.array([0.5, 0.5, 0.5])\n",
    "c = a - b\n",
    "c"
   ]
  },
  {
   "cell_type": "markdown",
   "id": "e5e5e1f4",
   "metadata": {},
   "source": [
    "#### Vector Multiplication\n",
    "\n",
    "Two vectors of equal length can be multiplied together.\n",
    "\n",
    "$$ c = a \\times b $$\n",
    "\n",
    "As with addition and subtraction, this operation is performed element-wise to result in a\n",
    "\n",
    "new vector of the same length.\n",
    "\n",
    "$$ c = (a_1 \\times b_1, \\, a_2 \\times b_2, \\, a_3 \\times b_3) $$"
   ]
  },
  {
   "cell_type": "code",
   "execution_count": 9,
   "id": "28bd48f2",
   "metadata": {},
   "outputs": [
    {
     "data": {
      "text/plain": [
       "array([1, 4, 9])"
      ]
     },
     "execution_count": 9,
     "metadata": {},
     "output_type": "execute_result"
    }
   ],
   "source": [
    "a = np.array([1, 2, 3])\n",
    "b = np.array([1, 2, 3]) \n",
    "c = a * b\n",
    "c"
   ]
  },
  {
   "cell_type": "markdown",
   "id": "4c5d1ec6",
   "metadata": {},
   "source": [
    "#### Vector Division\n",
    "\n",
    "Two vectors of equal length can be divided.\n",
    "  \n",
    "$$ c = \\frac{a}{b} $$\n",
    "\n",
    "As with other arithmetic operations, this operation is performed element-wise\n",
    "\n",
    "$$ c = \\begin{pmatrix}\n",
    "\\frac{a_1}{b_1}, & \\frac{a_2}{b_2}, & \\frac{a_3}{a_4}\\\\\n",
    "\\end{pmatrix}$$\n"
   ]
  },
  {
   "cell_type": "code",
   "execution_count": 11,
   "id": "cf311f9e",
   "metadata": {},
   "outputs": [
    {
     "data": {
      "text/plain": [
       "array([2., 2., 2.])"
      ]
     },
     "execution_count": 11,
     "metadata": {},
     "output_type": "execute_result"
    }
   ],
   "source": [
    "a = np.array([2, 4, 6])\n",
    "b = np.array([1, 2, 3]) \n",
    "c = a / b\n",
    "c"
   ]
  },
  {
   "cell_type": "markdown",
   "id": "b9d21a69",
   "metadata": {},
   "source": [
    "#### Vector Dot Product\n",
    "\n",
    "We can calculate the sum of the multiplied elements of two vectors of the same length to give a scalar. \n",
    "\n",
    "This is called the dot product, named because of the dot operator used when describing the operation.\n",
    "\n",
    "$$ c = a \\cdot b $$\n",
    " \n",
    "The dot product is calculated as follows:\n",
    "  \n",
    "$$ c = (a_1b_1 + a_2b_2 + a_3b_3) $$\n",
    "\n",
    "We can calculate the dot product between two vectors in Python using the dot() function on a NumPy array."
   ]
  },
  {
   "cell_type": "code",
   "execution_count": 3,
   "id": "cb72bc8c",
   "metadata": {},
   "outputs": [
    {
     "data": {
      "text/plain": [
       "28"
      ]
     },
     "execution_count": 3,
     "metadata": {},
     "output_type": "execute_result"
    }
   ],
   "source": [
    "a = np.array([2, 4, 6])\n",
    "b = np.array([1, 2, 3]) \n",
    "c = a.dot(b)\n",
    "c"
   ]
  },
  {
   "cell_type": "markdown",
   "id": "7026ed5c",
   "metadata": {},
   "source": [
    "#### Vector-Scalar Multiplication\n",
    "\n",
    "A vector can be multiplied by a scalar, in effect scaling the magnitude of the vector. \n",
    "\n",
    "To keep notation simple, we will use lowercase s to represent the scalar value.\n",
    "\n",
    "$$ c = s \\times v $$\n",
    "\n",
    "The multiplication is performed on each element of the vector to result in a new scaled vector of the same length.\n",
    "\n",
    "$$ c = (s \\times v_1, s \\times v_2, s \\times v_3) $$\n",
    "\n",
    "We can perform this operation directly with the NumPy array."
   ]
  },
  {
   "cell_type": "code",
   "execution_count": 4,
   "id": "3663510a",
   "metadata": {},
   "outputs": [
    {
     "data": {
      "text/plain": [
       "array([ 4,  8, 12])"
      ]
     },
     "execution_count": 4,
     "metadata": {},
     "output_type": "execute_result"
    }
   ],
   "source": [
    "v = np.array([2, 4, 6])\n",
    "s = 2\n",
    "c = s * v\n",
    "c"
   ]
  },
  {
   "cell_type": "markdown",
   "id": "b34c9930",
   "metadata": {},
   "source": [
    "### Vector Norms\n",
    "---\n",
    "\n",
    "Calculating the size or length of a vector is often required either\n",
    "\n",
    "The length of the vector is referred to as the vector norm or the vector’s magnitude.\n",
    "\n",
    "It's calculated using a measure that summarizes the distance of the vector from the origin of the vector space.\n",
    "\n",
    "For example, the origin of a vector space for a vector with 3 elements is (0, 0, 0). "
   ]
  },
  {
   "cell_type": "markdown",
   "id": "0555e2ce",
   "metadata": {},
   "source": [
    "#### Vector $L^1$ Norm\n",
    "\n",
    "The length of a vector can be calculated using the $L^1$ norm. \n",
    "\n",
    "The notation for the L1 norm of a vector is $||v||_1$, where 1 is a subscript. \n",
    "\n",
    "As such, this length is sometimes called the taxicab norm or the Manhattan norm.\n",
    "\n",
    "$$  L_1(v) = ||v||_1  $$\n",
    "\n",
    "The L1 norm is calculated as the sum of the absolute vector values\n",
    "\n",
    "$$  ||v||_1 = |a_1| + |a_2| + |a_3| $$\n",
    "\n"
   ]
  },
  {
   "cell_type": "code",
   "execution_count": 5,
   "id": "bc8029f7",
   "metadata": {},
   "outputs": [
    {
     "data": {
      "text/plain": [
       "6.0"
      ]
     },
     "execution_count": 5,
     "metadata": {},
     "output_type": "execute_result"
    }
   ],
   "source": [
    "a  = np.array([1, 2, 3])\n",
    "L1 = np.linalg.norm(a, 1)\n",
    "L1"
   ]
  },
  {
   "cell_type": "markdown",
   "id": "ac5d2deb",
   "metadata": {},
   "source": [
    "#### Vector $L^2$ Norm\n",
    "\n",
    "\n",
    "The $L^2$ norm calculates the distance of the vector coordinate from the origin of the vector space. \n",
    "\n",
    "$$ L^2(v) = ||v||_2  $$\n",
    "\n",
    "As such, it is also known as the Euclidean norm as it is calculated as the Euclidean distance from the origin. \n",
    "\n",
    "The $L^2$ norm is calculated as the square root of the sum of the squared vector values.\n",
    "\n",
    "$$  ||v||_2 = \\sqrt{ a^2_1 + a^2_2 + a^2_3 } $$"
   ]
  },
  {
   "cell_type": "code",
   "execution_count": 7,
   "id": "03d62280",
   "metadata": {},
   "outputs": [
    {
     "data": {
      "text/plain": [
       "3.742"
      ]
     },
     "execution_count": 7,
     "metadata": {},
     "output_type": "execute_result"
    }
   ],
   "source": [
    "a  = np.array([1, 2, 3])\n",
    "L2 = np.linalg.norm(a)\n",
    "round(L2, 3)"
   ]
  },
  {
   "cell_type": "markdown",
   "id": "cc9c08ae",
   "metadata": {},
   "source": [
    "#### Vector Max Norm\n",
    "\n",
    "The notation for max norm is $||v||_inf$, where inf is a subscript.\n",
    "\n",
    "$$  L^{inf} (v) = ||v||_{inf} $$\n",
    "\n",
    "The max norm is calculated as returning the maximum absolute value of the vector, hence the name.\n",
    "\n",
    "$$  ||v||_{inf} = max(|a_1|, |a_2|, |a_3|) $$"
   ]
  },
  {
   "cell_type": "code",
   "execution_count": 9,
   "id": "efe94df5",
   "metadata": {},
   "outputs": [
    {
     "data": {
      "text/plain": [
       "3.0"
      ]
     },
     "execution_count": 9,
     "metadata": {},
     "output_type": "execute_result"
    }
   ],
   "source": [
    "a = np.array([1, 2, 3])\n",
    "m = np.linalg.norm(a, np.inf)\n",
    "m"
   ]
  },
  {
   "cell_type": "markdown",
   "id": "fae3a633",
   "metadata": {},
   "source": [
    "### Matrix Arithmetic\n",
    "---\n",
    "\n",
    "Two matrices with the same dimensions can be added together to create a new third matrix.\n",
    "\n",
    "$$ C = A + B $$ \n",
    "\n",
    "Scalar elements in the new matrix are calculated as the addition of the elements in each of the matrices \n",
    "\n",
    "\n",
    "$$ C = \\begin{pmatrix}\n",
    "a_{1,1} + b_{1,1} & a_{1,2} + b_{1,2}\\\\\n",
    "a_{2,1} + b_{2,1} & a_{2,2} + b_{2,2}\\\\\n",
    "a_{3,1} + b_{3,1} & a_{3,2} + b_{3,2}\\\\\n",
    "\\end{pmatrix}$$"
   ]
  },
  {
   "cell_type": "code",
   "execution_count": 5,
   "id": "9a7f1372",
   "metadata": {},
   "outputs": [
    {
     "data": {
      "text/plain": [
       "array([[ 2,  4,  6],\n",
       "       [ 8, 10, 12]])"
      ]
     },
     "execution_count": 5,
     "metadata": {},
     "output_type": "execute_result"
    }
   ],
   "source": [
    "A = np.array([[1, 2, 3],\n",
    "              [4, 5, 6]])\n",
    "\n",
    "B = np.array([[1, 2, 3],\n",
    "              [4, 5, 6]]) \n",
    "\n",
    "C = A + B \n",
    "C"
   ]
  },
  {
   "cell_type": "markdown",
   "id": "ddc17c12",
   "metadata": {},
   "source": [
    "#### Matrix Subtraction\n",
    "\n",
    "Similarly, one matrix can be subtracted from another matrix with the same dimensions.\n",
    "\n",
    "$$ C = \\begin{pmatrix}\n",
    "a_{1,1} - b_{1,1} & a_{1,2} - b_{1,2}\\\\\n",
    "a_{2,1} - b_{2,1} & a_{2,2} - b_{2,2}\\\\\n",
    "a_{3,1} - b_{3,1} & a_{3,2} - b_{3,2}\\\\\n",
    "\\end{pmatrix}$$\n"
   ]
  },
  {
   "cell_type": "code",
   "execution_count": 6,
   "id": "78d414eb",
   "metadata": {},
   "outputs": [
    {
     "data": {
      "text/plain": [
       "array([[0, 0, 0],\n",
       "       [0, 0, 0]])"
      ]
     },
     "execution_count": 6,
     "metadata": {},
     "output_type": "execute_result"
    }
   ],
   "source": [
    "A = np.array([[1, 2, 3],\n",
    "              [4, 5, 6]])\n",
    "\n",
    "B = np.array([[1, 2, 3],\n",
    "              [4, 5, 6]]) \n",
    "\n",
    "C = A - B \n",
    "C"
   ]
  },
  {
   "cell_type": "code",
   "execution_count": null,
   "id": "8a1991a4",
   "metadata": {},
   "outputs": [],
   "source": []
  }
 ],
 "metadata": {
  "kernelspec": {
   "display_name": "Python 3",
   "language": "python",
   "name": "python3"
  },
  "language_info": {
   "codemirror_mode": {
    "name": "ipython",
    "version": 3
   },
   "file_extension": ".py",
   "mimetype": "text/x-python",
   "name": "python",
   "nbconvert_exporter": "python",
   "pygments_lexer": "ipython3",
   "version": "3.8.8"
  }
 },
 "nbformat": 4,
 "nbformat_minor": 5
}
