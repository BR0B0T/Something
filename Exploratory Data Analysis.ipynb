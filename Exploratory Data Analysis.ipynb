{
 "cells": [
  {
   "cell_type": "code",
   "execution_count": 19,
   "id": "00ed54e0",
   "metadata": {},
   "outputs": [],
   "source": [
    "import numpy as np\n",
    "import matplotlib.pyplot as plt\n",
    "import mpld3\n",
    "import pandas as pd\n",
    "import seaborn as sn\n",
    "import warnings\n",
    "\n",
    "from scipy import stats\n",
    "\n",
    "warnings.filterwarnings('ignore')\n",
    "# pd.set_option('display.max_rows', 2)\n",
    "mpld3.enable_notebook()\n",
    "%matplotlib inline"
   ]
  },
  {
   "cell_type": "markdown",
   "id": "3189606d",
   "metadata": {},
   "source": [
    "Read the data in..."
   ]
  },
  {
   "cell_type": "code",
   "execution_count": 8,
   "id": "994e1feb",
   "metadata": {},
   "outputs": [],
   "source": [
    "A = pd.read_csv('EDA/A.csv', parse_dates=True, index_col=0)\n",
    "B = pd.read_csv('EDA/B.csv', parse_dates=True, index_col=0)\n",
    "C = pd.read_csv('EDA/C.csv', parse_dates=True, index_col=0)"
   ]
  },
  {
   "cell_type": "markdown",
   "id": "68495805",
   "metadata": {},
   "source": [
    "Merge the three dataframes..."
   ]
  },
  {
   "cell_type": "code",
   "execution_count": 14,
   "id": "c890fc53",
   "metadata": {},
   "outputs": [
    {
     "data": {
      "text/html": [
       "<div>\n",
       "<style scoped>\n",
       "    .dataframe tbody tr th:only-of-type {\n",
       "        vertical-align: middle;\n",
       "    }\n",
       "\n",
       "    .dataframe tbody tr th {\n",
       "        vertical-align: top;\n",
       "    }\n",
       "\n",
       "    .dataframe thead th {\n",
       "        text-align: right;\n",
       "    }\n",
       "</style>\n",
       "<table border=\"1\" class=\"dataframe\">\n",
       "  <thead>\n",
       "    <tr style=\"text-align: right;\">\n",
       "      <th></th>\n",
       "      <th>Open_A</th>\n",
       "      <th>High_A</th>\n",
       "      <th>Low_A</th>\n",
       "      <th>Close_A</th>\n",
       "      <th>Adj Close_A</th>\n",
       "      <th>Volume_A</th>\n",
       "      <th>Open_B</th>\n",
       "      <th>High_B</th>\n",
       "      <th>Low_B</th>\n",
       "      <th>Close_B</th>\n",
       "      <th>Adj Close_B</th>\n",
       "      <th>Volume_B</th>\n",
       "      <th>Open_C</th>\n",
       "      <th>High_C</th>\n",
       "      <th>Low_C</th>\n",
       "      <th>Close_C</th>\n",
       "      <th>Adj Close_C</th>\n",
       "      <th>Volume_C</th>\n",
       "    </tr>\n",
       "    <tr>\n",
       "      <th>Date</th>\n",
       "      <th></th>\n",
       "      <th></th>\n",
       "      <th></th>\n",
       "      <th></th>\n",
       "      <th></th>\n",
       "      <th></th>\n",
       "      <th></th>\n",
       "      <th></th>\n",
       "      <th></th>\n",
       "      <th></th>\n",
       "      <th></th>\n",
       "      <th></th>\n",
       "      <th></th>\n",
       "      <th></th>\n",
       "      <th></th>\n",
       "      <th></th>\n",
       "      <th></th>\n",
       "      <th></th>\n",
       "    </tr>\n",
       "  </thead>\n",
       "  <tbody>\n",
       "    <tr>\n",
       "      <th>2015-05-15</th>\n",
       "      <td>18251.970703</td>\n",
       "      <td>18272.720703</td>\n",
       "      <td>18215.070313</td>\n",
       "      <td>18272.560547</td>\n",
       "      <td>18272.560547</td>\n",
       "      <td>108220000.0</td>\n",
       "      <td>2122.070068</td>\n",
       "      <td>2123.889893</td>\n",
       "      <td>2116.810059</td>\n",
       "      <td>2122.72998</td>\n",
       "      <td>2122.72998</td>\n",
       "      <td>3.092080e+09</td>\n",
       "      <td>12.46</td>\n",
       "      <td>13.090000</td>\n",
       "      <td>12.350000</td>\n",
       "      <td>12.380000</td>\n",
       "      <td>12.380000</td>\n",
       "      <td>0.0</td>\n",
       "    </tr>\n",
       "    <tr>\n",
       "      <th>...</th>\n",
       "      <td>...</td>\n",
       "      <td>...</td>\n",
       "      <td>...</td>\n",
       "      <td>...</td>\n",
       "      <td>...</td>\n",
       "      <td>...</td>\n",
       "      <td>...</td>\n",
       "      <td>...</td>\n",
       "      <td>...</td>\n",
       "      <td>...</td>\n",
       "      <td>...</td>\n",
       "      <td>...</td>\n",
       "      <td>...</td>\n",
       "      <td>...</td>\n",
       "      <td>...</td>\n",
       "      <td>...</td>\n",
       "      <td>...</td>\n",
       "      <td>...</td>\n",
       "    </tr>\n",
       "    <tr>\n",
       "      <th>2020-05-14</th>\n",
       "      <td>23049.060547</td>\n",
       "      <td>23630.859375</td>\n",
       "      <td>22789.619141</td>\n",
       "      <td>23625.339844</td>\n",
       "      <td>23625.339844</td>\n",
       "      <td>472700000.0</td>\n",
       "      <td>2794.540039</td>\n",
       "      <td>2852.800049</td>\n",
       "      <td>2766.639893</td>\n",
       "      <td>2852.50000</td>\n",
       "      <td>2852.50000</td>\n",
       "      <td>5.641920e+09</td>\n",
       "      <td>35.16</td>\n",
       "      <td>39.279999</td>\n",
       "      <td>32.330002</td>\n",
       "      <td>32.610001</td>\n",
       "      <td>32.610001</td>\n",
       "      <td>0.0</td>\n",
       "    </tr>\n",
       "  </tbody>\n",
       "</table>\n",
       "<p>1259 rows × 18 columns</p>\n",
       "</div>"
      ],
      "text/plain": [
       "                  Open_A        High_A         Low_A       Close_A  \\\n",
       "Date                                                                 \n",
       "2015-05-15  18251.970703  18272.720703  18215.070313  18272.560547   \n",
       "...                  ...           ...           ...           ...   \n",
       "2020-05-14  23049.060547  23630.859375  22789.619141  23625.339844   \n",
       "\n",
       "             Adj Close_A     Volume_A       Open_B       High_B        Low_B  \\\n",
       "Date                                                                           \n",
       "2015-05-15  18272.560547  108220000.0  2122.070068  2123.889893  2116.810059   \n",
       "...                  ...          ...          ...          ...          ...   \n",
       "2020-05-14  23625.339844  472700000.0  2794.540039  2852.800049  2766.639893   \n",
       "\n",
       "               Close_B  Adj Close_B      Volume_B  Open_C     High_C  \\\n",
       "Date                                                                   \n",
       "2015-05-15  2122.72998   2122.72998  3.092080e+09   12.46  13.090000   \n",
       "...                ...          ...           ...     ...        ...   \n",
       "2020-05-14  2852.50000   2852.50000  5.641920e+09   35.16  39.279999   \n",
       "\n",
       "                Low_C    Close_C  Adj Close_C  Volume_C  \n",
       "Date                                                     \n",
       "2015-05-15  12.350000  12.380000    12.380000       0.0  \n",
       "...               ...        ...          ...       ...  \n",
       "2020-05-14  32.330002  32.610001    32.610001       0.0  \n",
       "\n",
       "[1259 rows x 18 columns]"
      ]
     },
     "execution_count": 14,
     "metadata": {},
     "output_type": "execute_result"
    }
   ],
   "source": [
    "merged_df = A.join(B, how='outer', lsuffix='_A', sort=True).join(C, how='outer', lsuffix='_B', rsuffix='_C', sort=True)\n",
    "merged_df"
   ]
  },
  {
   "cell_type": "markdown",
   "id": "d60747b0",
   "metadata": {},
   "source": [
    "Check if there are any NaN values..."
   ]
  },
  {
   "cell_type": "code",
   "execution_count": 15,
   "id": "d7edef0b",
   "metadata": {},
   "outputs": [
    {
     "data": {
      "text/html": [
       "<div>\n",
       "<style scoped>\n",
       "    .dataframe tbody tr th:only-of-type {\n",
       "        vertical-align: middle;\n",
       "    }\n",
       "\n",
       "    .dataframe tbody tr th {\n",
       "        vertical-align: top;\n",
       "    }\n",
       "\n",
       "    .dataframe thead th {\n",
       "        text-align: right;\n",
       "    }\n",
       "</style>\n",
       "<table border=\"1\" class=\"dataframe\">\n",
       "  <thead>\n",
       "    <tr style=\"text-align: right;\">\n",
       "      <th></th>\n",
       "      <th>Open_A</th>\n",
       "      <th>High_A</th>\n",
       "      <th>Low_A</th>\n",
       "      <th>Close_A</th>\n",
       "      <th>Adj Close_A</th>\n",
       "      <th>Volume_A</th>\n",
       "      <th>Open_B</th>\n",
       "      <th>High_B</th>\n",
       "      <th>Low_B</th>\n",
       "      <th>Close_B</th>\n",
       "      <th>Adj Close_B</th>\n",
       "      <th>Volume_B</th>\n",
       "      <th>Open_C</th>\n",
       "      <th>High_C</th>\n",
       "      <th>Low_C</th>\n",
       "      <th>Close_C</th>\n",
       "      <th>Adj Close_C</th>\n",
       "      <th>Volume_C</th>\n",
       "    </tr>\n",
       "    <tr>\n",
       "      <th>Date</th>\n",
       "      <th></th>\n",
       "      <th></th>\n",
       "      <th></th>\n",
       "      <th></th>\n",
       "      <th></th>\n",
       "      <th></th>\n",
       "      <th></th>\n",
       "      <th></th>\n",
       "      <th></th>\n",
       "      <th></th>\n",
       "      <th></th>\n",
       "      <th></th>\n",
       "      <th></th>\n",
       "      <th></th>\n",
       "      <th></th>\n",
       "      <th></th>\n",
       "      <th></th>\n",
       "      <th></th>\n",
       "    </tr>\n",
       "  </thead>\n",
       "  <tbody>\n",
       "  </tbody>\n",
       "</table>\n",
       "</div>"
      ],
      "text/plain": [
       "Empty DataFrame\n",
       "Columns: [Open_A, High_A, Low_A, Close_A, Adj Close_A, Volume_A, Open_B, High_B, Low_B, Close_B, Adj Close_B, Volume_B, Open_C, High_C, Low_C, Close_C, Adj Close_C, Volume_C]\n",
       "Index: []"
      ]
     },
     "execution_count": 15,
     "metadata": {},
     "output_type": "execute_result"
    }
   ],
   "source": [
    "merged_df[merged_df.isnull().all(axis=1)]"
   ]
  },
  {
   "cell_type": "markdown",
   "id": "1b114195",
   "metadata": {},
   "source": [
    "Shows that we have no rows with all fields missing. \n",
    "\n",
    "Our analysis is based on the closing price, check if any are missing..."
   ]
  },
  {
   "cell_type": "code",
   "execution_count": 16,
   "id": "c670379a",
   "metadata": {},
   "outputs": [
    {
     "data": {
      "text/plain": [
       "148"
      ]
     },
     "execution_count": 16,
     "metadata": {},
     "output_type": "execute_result"
    }
   ],
   "source": [
    "merged_df[['Close_A', 'Close_B', 'Close_C']].isnull().any(axis=1).sum()"
   ]
  },
  {
   "cell_type": "markdown",
   "id": "54d81f35",
   "metadata": {},
   "source": [
    "We need to drop those 148 rows..."
   ]
  },
  {
   "cell_type": "code",
   "execution_count": 17,
   "id": "695b6435",
   "metadata": {},
   "outputs": [],
   "source": [
    "valid_close_df = merged_df.dropna(subset=['Close_A', 'Close_B', 'Close_C'], how='any')"
   ]
  },
  {
   "cell_type": "markdown",
   "id": "ae772164",
   "metadata": {},
   "source": [
    "check again..."
   ]
  },
  {
   "cell_type": "code",
   "execution_count": 18,
   "id": "8e353427",
   "metadata": {},
   "outputs": [
    {
     "data": {
      "text/plain": [
       "0"
      ]
     },
     "execution_count": 18,
     "metadata": {},
     "output_type": "execute_result"
    }
   ],
   "source": [
    "valid_close_df[['Close_A', 'Close_B', 'Close_C']].isnull().any(axis=1).sum()"
   ]
  },
  {
   "cell_type": "markdown",
   "id": "fb5da0d5",
   "metadata": {},
   "source": [
    "Check for other NaN values..."
   ]
  },
  {
   "cell_type": "code",
   "execution_count": 20,
   "id": "0ec366bf",
   "metadata": {},
   "outputs": [
    {
     "data": {
      "text/plain": [
       "165"
      ]
     },
     "execution_count": 20,
     "metadata": {},
     "output_type": "execute_result"
    }
   ],
   "source": [
    "valid_close_df.isnull().any(axis=1).sum()"
   ]
  },
  {
   "cell_type": "markdown",
   "id": "0959410e",
   "metadata": {},
   "source": [
    "We are going to backfill these NaN values..."
   ]
  },
  {
   "cell_type": "code",
   "execution_count": 22,
   "id": "a76419e9",
   "metadata": {},
   "outputs": [],
   "source": [
    "valid_close_complete = valid_close_df.fillna(method='backfill')"
   ]
  },
  {
   "cell_type": "code",
   "execution_count": 24,
   "id": "9fad822d",
   "metadata": {},
   "outputs": [
    {
     "data": {
      "text/plain": [
       "0"
      ]
     },
     "execution_count": 24,
     "metadata": {},
     "output_type": "execute_result"
    }
   ],
   "source": [
    "valid_close_complete.isnull().any(axis=1).sum()"
   ]
  },
  {
   "cell_type": "markdown",
   "id": "0151c592",
   "metadata": {},
   "source": [
    "### Descriptive Statistics\n",
    "\n",
    "Have to reset pandas display option first (prolly ditch this)"
   ]
  },
  {
   "cell_type": "code",
   "execution_count": 26,
   "id": "12d296db",
   "metadata": {},
   "outputs": [
    {
     "data": {
      "text/html": [
       "<div>\n",
       "<style scoped>\n",
       "    .dataframe tbody tr th:only-of-type {\n",
       "        vertical-align: middle;\n",
       "    }\n",
       "\n",
       "    .dataframe tbody tr th {\n",
       "        vertical-align: top;\n",
       "    }\n",
       "\n",
       "    .dataframe thead th {\n",
       "        text-align: right;\n",
       "    }\n",
       "</style>\n",
       "<table border=\"1\" class=\"dataframe\">\n",
       "  <thead>\n",
       "    <tr style=\"text-align: right;\">\n",
       "      <th></th>\n",
       "      <th>Open_A</th>\n",
       "      <th>High_A</th>\n",
       "      <th>Low_A</th>\n",
       "      <th>Close_A</th>\n",
       "      <th>Adj Close_A</th>\n",
       "      <th>Volume_A</th>\n",
       "      <th>Open_B</th>\n",
       "      <th>High_B</th>\n",
       "      <th>Low_B</th>\n",
       "      <th>Close_B</th>\n",
       "      <th>Adj Close_B</th>\n",
       "      <th>Volume_B</th>\n",
       "      <th>Open_C</th>\n",
       "      <th>High_C</th>\n",
       "      <th>Low_C</th>\n",
       "      <th>Close_C</th>\n",
       "      <th>Adj Close_C</th>\n",
       "      <th>Volume_C</th>\n",
       "    </tr>\n",
       "  </thead>\n",
       "  <tbody>\n",
       "    <tr>\n",
       "      <th>count</th>\n",
       "      <td>1111.000000</td>\n",
       "      <td>1111.000000</td>\n",
       "      <td>1111.000000</td>\n",
       "      <td>1111.000000</td>\n",
       "      <td>1111.000000</td>\n",
       "      <td>1.111000e+03</td>\n",
       "      <td>1111.000000</td>\n",
       "      <td>1111.000000</td>\n",
       "      <td>1111.000000</td>\n",
       "      <td>1111.000000</td>\n",
       "      <td>1111.000000</td>\n",
       "      <td>1.111000e+03</td>\n",
       "      <td>1111.000000</td>\n",
       "      <td>1111.000000</td>\n",
       "      <td>1111.000000</td>\n",
       "      <td>1111.000000</td>\n",
       "      <td>1111.000000</td>\n",
       "      <td>1111.0</td>\n",
       "    </tr>\n",
       "    <tr>\n",
       "      <th>mean</th>\n",
       "      <td>22291.125036</td>\n",
       "      <td>22402.395046</td>\n",
       "      <td>22168.922744</td>\n",
       "      <td>22292.881128</td>\n",
       "      <td>22292.531416</td>\n",
       "      <td>2.614436e+08</td>\n",
       "      <td>2517.857235</td>\n",
       "      <td>2529.804546</td>\n",
       "      <td>2504.360406</td>\n",
       "      <td>2518.053995</td>\n",
       "      <td>2518.053995</td>\n",
       "      <td>3.746609e+09</td>\n",
       "      <td>14.628353</td>\n",
       "      <td>17.614230</td>\n",
       "      <td>16.655851</td>\n",
       "      <td>16.417606</td>\n",
       "      <td>16.417606</td>\n",
       "      <td>0.0</td>\n",
       "    </tr>\n",
       "    <tr>\n",
       "      <th>std</th>\n",
       "      <td>3771.056417</td>\n",
       "      <td>3784.558787</td>\n",
       "      <td>3755.740756</td>\n",
       "      <td>3769.395516</td>\n",
       "      <td>3767.906829</td>\n",
       "      <td>1.537677e+08</td>\n",
       "      <td>374.081451</td>\n",
       "      <td>375.376401</td>\n",
       "      <td>373.086693</td>\n",
       "      <td>374.314671</td>\n",
       "      <td>374.314671</td>\n",
       "      <td>9.013618e+08</td>\n",
       "      <td>29.023906</td>\n",
       "      <td>9.056045</td>\n",
       "      <td>20.123487</td>\n",
       "      <td>8.016538</td>\n",
       "      <td>8.016538</td>\n",
       "      <td>0.0</td>\n",
       "    </tr>\n",
       "    <tr>\n",
       "      <th>min</th>\n",
       "      <td>15676.259766</td>\n",
       "      <td>15897.820313</td>\n",
       "      <td>15370.330078</td>\n",
       "      <td>15660.179688</td>\n",
       "      <td>15660.179688</td>\n",
       "      <td>4.589000e+07</td>\n",
       "      <td>1833.400024</td>\n",
       "      <td>1847.000000</td>\n",
       "      <td>1810.099976</td>\n",
       "      <td>1829.079956</td>\n",
       "      <td>1829.079956</td>\n",
       "      <td>1.296540e+09</td>\n",
       "      <td>-400.000000</td>\n",
       "      <td>9.310000</td>\n",
       "      <td>8.560000</td>\n",
       "      <td>9.140000</td>\n",
       "      <td>9.140000</td>\n",
       "      <td>0.0</td>\n",
       "    </tr>\n",
       "    <tr>\n",
       "      <th>25%</th>\n",
       "      <td>18232.280274</td>\n",
       "      <td>18285.384766</td>\n",
       "      <td>18156.614258</td>\n",
       "      <td>18230.160156</td>\n",
       "      <td>18227.615235</td>\n",
       "      <td>1.233350e+08</td>\n",
       "      <td>2144.320069</td>\n",
       "      <td>2152.525024</td>\n",
       "      <td>2134.464966</td>\n",
       "      <td>2142.250000</td>\n",
       "      <td>2142.250000</td>\n",
       "      <td>3.247990e+09</td>\n",
       "      <td>12.405000</td>\n",
       "      <td>12.900000</td>\n",
       "      <td>11.875000</td>\n",
       "      <td>12.300000</td>\n",
       "      <td>12.300000</td>\n",
       "      <td>0.0</td>\n",
       "    </tr>\n",
       "    <tr>\n",
       "      <th>50%</th>\n",
       "      <td>22762.029297</td>\n",
       "      <td>22872.890625</td>\n",
       "      <td>22634.449219</td>\n",
       "      <td>22773.669922</td>\n",
       "      <td>22773.669922</td>\n",
       "      <td>2.631800e+08</td>\n",
       "      <td>2521.199951</td>\n",
       "      <td>2551.820068</td>\n",
       "      <td>2503.189941</td>\n",
       "      <td>2531.939941</td>\n",
       "      <td>2531.939941</td>\n",
       "      <td>3.560770e+09</td>\n",
       "      <td>14.190000</td>\n",
       "      <td>15.010000</td>\n",
       "      <td>13.470000</td>\n",
       "      <td>14.090000</td>\n",
       "      <td>14.090000</td>\n",
       "      <td>0.0</td>\n",
       "    </tr>\n",
       "    <tr>\n",
       "      <th>75%</th>\n",
       "      <td>25516.320312</td>\n",
       "      <td>25659.810547</td>\n",
       "      <td>25382.705078</td>\n",
       "      <td>25518.895508</td>\n",
       "      <td>25518.895508</td>\n",
       "      <td>3.328450e+08</td>\n",
       "      <td>2815.010010</td>\n",
       "      <td>2831.880004</td>\n",
       "      <td>2800.239991</td>\n",
       "      <td>2817.330078</td>\n",
       "      <td>2817.330078</td>\n",
       "      <td>3.967360e+09</td>\n",
       "      <td>17.685001</td>\n",
       "      <td>19.040001</td>\n",
       "      <td>16.809999</td>\n",
       "      <td>17.665000</td>\n",
       "      <td>17.665000</td>\n",
       "      <td>0.0</td>\n",
       "    </tr>\n",
       "    <tr>\n",
       "      <th>max</th>\n",
       "      <td>29440.470703</td>\n",
       "      <td>29568.570313</td>\n",
       "      <td>29406.750000</td>\n",
       "      <td>29551.419922</td>\n",
       "      <td>29551.419922</td>\n",
       "      <td>2.190810e+09</td>\n",
       "      <td>3380.449951</td>\n",
       "      <td>3393.520020</td>\n",
       "      <td>3378.830078</td>\n",
       "      <td>3386.149902</td>\n",
       "      <td>3386.149902</td>\n",
       "      <td>9.044690e+09</td>\n",
       "      <td>82.690002</td>\n",
       "      <td>85.470001</td>\n",
       "      <td>330.000000</td>\n",
       "      <td>82.690002</td>\n",
       "      <td>82.690002</td>\n",
       "      <td>0.0</td>\n",
       "    </tr>\n",
       "  </tbody>\n",
       "</table>\n",
       "</div>"
      ],
      "text/plain": [
       "             Open_A        High_A         Low_A       Close_A   Adj Close_A  \\\n",
       "count   1111.000000   1111.000000   1111.000000   1111.000000   1111.000000   \n",
       "mean   22291.125036  22402.395046  22168.922744  22292.881128  22292.531416   \n",
       "std     3771.056417   3784.558787   3755.740756   3769.395516   3767.906829   \n",
       "min    15676.259766  15897.820313  15370.330078  15660.179688  15660.179688   \n",
       "25%    18232.280274  18285.384766  18156.614258  18230.160156  18227.615235   \n",
       "50%    22762.029297  22872.890625  22634.449219  22773.669922  22773.669922   \n",
       "75%    25516.320312  25659.810547  25382.705078  25518.895508  25518.895508   \n",
       "max    29440.470703  29568.570313  29406.750000  29551.419922  29551.419922   \n",
       "\n",
       "           Volume_A       Open_B       High_B        Low_B      Close_B  \\\n",
       "count  1.111000e+03  1111.000000  1111.000000  1111.000000  1111.000000   \n",
       "mean   2.614436e+08  2517.857235  2529.804546  2504.360406  2518.053995   \n",
       "std    1.537677e+08   374.081451   375.376401   373.086693   374.314671   \n",
       "min    4.589000e+07  1833.400024  1847.000000  1810.099976  1829.079956   \n",
       "25%    1.233350e+08  2144.320069  2152.525024  2134.464966  2142.250000   \n",
       "50%    2.631800e+08  2521.199951  2551.820068  2503.189941  2531.939941   \n",
       "75%    3.328450e+08  2815.010010  2831.880004  2800.239991  2817.330078   \n",
       "max    2.190810e+09  3380.449951  3393.520020  3378.830078  3386.149902   \n",
       "\n",
       "       Adj Close_B      Volume_B       Open_C       High_C        Low_C  \\\n",
       "count  1111.000000  1.111000e+03  1111.000000  1111.000000  1111.000000   \n",
       "mean   2518.053995  3.746609e+09    14.628353    17.614230    16.655851   \n",
       "std     374.314671  9.013618e+08    29.023906     9.056045    20.123487   \n",
       "min    1829.079956  1.296540e+09  -400.000000     9.310000     8.560000   \n",
       "25%    2142.250000  3.247990e+09    12.405000    12.900000    11.875000   \n",
       "50%    2531.939941  3.560770e+09    14.190000    15.010000    13.470000   \n",
       "75%    2817.330078  3.967360e+09    17.685001    19.040001    16.809999   \n",
       "max    3386.149902  9.044690e+09    82.690002    85.470001   330.000000   \n",
       "\n",
       "           Close_C  Adj Close_C  Volume_C  \n",
       "count  1111.000000  1111.000000    1111.0  \n",
       "mean     16.417606    16.417606       0.0  \n",
       "std       8.016538     8.016538       0.0  \n",
       "min       9.140000     9.140000       0.0  \n",
       "25%      12.300000    12.300000       0.0  \n",
       "50%      14.090000    14.090000       0.0  \n",
       "75%      17.665000    17.665000       0.0  \n",
       "max      82.690002    82.690002       0.0  "
      ]
     },
     "execution_count": 26,
     "metadata": {},
     "output_type": "execute_result"
    }
   ],
   "source": [
    "pd.set_option('display.max_rows', None) \n",
    "\n",
    "valid_close_complete.describe()"
   ]
  },
  {
   "cell_type": "markdown",
   "id": "4f3af5b5",
   "metadata": {},
   "source": [
    "Drop the volume columns as they seem a little wonky..."
   ]
  },
  {
   "cell_type": "code",
   "execution_count": null,
   "id": "2853ccf6",
   "metadata": {},
   "outputs": [],
   "source": [
    "prices_only = valid_close_complete.drop(['Volume_A', 'Volume_B', 'Volume_C'], axis=1)\n",
    "prices_only"
   ]
  }
 ],
 "metadata": {
  "kernelspec": {
   "display_name": "Python 3",
   "language": "python",
   "name": "python3"
  },
  "language_info": {
   "codemirror_mode": {
    "name": "ipython",
    "version": 3
   },
   "file_extension": ".py",
   "mimetype": "text/x-python",
   "name": "python",
   "nbconvert_exporter": "python",
   "pygments_lexer": "ipython3",
   "version": "3.8.8"
  }
 },
 "nbformat": 4,
 "nbformat_minor": 5
}
